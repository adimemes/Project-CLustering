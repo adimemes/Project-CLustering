{
  "nbformat": 4,
  "nbformat_minor": 0,
  "metadata": {
    "colab": {
      "provenance": [],
      "mount_file_id": "10V8z6odIg3Ln9tedj1wPmlW-Y6KqOcSC",
      "authorship_tag": "ABX9TyPS0Pj/J/dB8glCNEhU6ZHD",
      "include_colab_link": true
    },
    "kernelspec": {
      "name": "python3",
      "display_name": "Python 3"
    },
    "language_info": {
      "name": "python"
    }
  },
  "cells": [
    {
      "cell_type": "markdown",
      "metadata": {
        "id": "view-in-github",
        "colab_type": "text"
      },
      "source": [
        "<a href=\"https://colab.research.google.com/github/adimemes/Project-CLustering/blob/main/Clustering.ipynb\" target=\"_parent\"><img src=\"https://colab.research.google.com/assets/colab-badge.svg\" alt=\"Open In Colab\"/></a>"
      ]
    },
    {
      "cell_type": "markdown",
      "source": [
        "# Clusetering Bank Tractation Data"
      ],
      "metadata": {
        "id": "ruqWjyRd7iEE"
      }
    },
    {
      "cell_type": "markdown",
      "source": [
        "Persiapan Libary"
      ],
      "metadata": {
        "id": "Pqhgzx3GwG0_"
      }
    },
    {
      "cell_type": "code",
      "source": [
        "import pandas as pd\n",
        "import numpy as np\n",
        "import matplotlib.pyplot as plt\n",
        "import seaborn as sns\n",
        "from sklearn.preprocessing import StandardScaler, OneHotEncoder, MinMaxScaler\n",
        "from sklearn.compose import ColumnTransformer\n",
        "from sklearn.pipeline import Pipeline\n",
        "from sklearn.cluster import KMeans\n",
        "from sklearn.metrics import silhouette_score\n",
        "from sklearn.decomposition import PCA\n",
        "from sklearn.impute import SimpleImputer\n"
      ],
      "metadata": {
        "id": "DsV3WGM__eSD"
      },
      "execution_count": 470,
      "outputs": []
    },
    {
      "cell_type": "markdown",
      "source": [
        "### Dataset\n",
        "\n",
        "Untuk dataset sudah di simpan pada Google Drive dan dipanggil dengan bantuan libary pandas menggunakan .read_csv karena tipe data adalah csv\n",
        ""
      ],
      "metadata": {
        "id": "8LAJgDwVwJGi"
      }
    },
    {
      "cell_type": "code",
      "source": [
        "url = \"/content/drive/MyDrive/bank_transactions_data_edited.csv\"\n",
        "Bank_data = pd.read_csv(url)"
      ],
      "metadata": {
        "id": "5_ZpVr6z_5H3"
      },
      "execution_count": 471,
      "outputs": []
    },
    {
      "cell_type": "markdown",
      "source": [
        "# Exploratory Data Analysis (EDA)"
      ],
      "metadata": {
        "id": "HaBlNXKV78h-"
      }
    },
    {
      "cell_type": "code",
      "source": [
        "Bank_data.head()"
      ],
      "metadata": {
        "colab": {
          "base_uri": "https://localhost:8080/",
          "height": 313
        },
        "id": "WPC7Yp8EEeq9",
        "outputId": "c8ec8761-8ef3-4ce3-e258-0db53be52b1f"
      },
      "execution_count": 472,
      "outputs": [
        {
          "output_type": "execute_result",
          "data": {
            "text/plain": [
              "  TransactionID AccountID  TransactionAmount      TransactionDate  \\\n",
              "0      TX000001   AC00128              14.09  2023-04-11 16:29:14   \n",
              "1      TX000002   AC00455             376.24  2023-06-27 16:44:19   \n",
              "2      TX000003   AC00019             126.29  2023-07-10 18:16:08   \n",
              "3      TX000004   AC00070             184.50  2023-05-05 16:32:11   \n",
              "4      TX000005   AC00411              13.45  2023-10-16 17:51:24   \n",
              "\n",
              "  TransactionType   Location DeviceID      IP Address MerchantID Channel  \\\n",
              "0           Debit  San Diego  D000380  162.198.218.92       M015     ATM   \n",
              "1           Debit    Houston  D000051     13.149.61.4       M052     ATM   \n",
              "2           Debit       Mesa  D000235  215.97.143.157       M009  Online   \n",
              "3           Debit    Raleigh  D000187  200.13.225.150       M002  Online   \n",
              "4          Credit    Atlanta  D000308    65.164.3.100       M091  Online   \n",
              "\n",
              "   CustomerAge CustomerOccupation  TransactionDuration  LoginAttempts  \\\n",
              "0         70.0             Doctor                 81.0            1.0   \n",
              "1         68.0             Doctor                141.0            1.0   \n",
              "2         19.0            Student                 56.0            1.0   \n",
              "3         26.0            Student                 25.0            1.0   \n",
              "4          NaN            Student                198.0            1.0   \n",
              "\n",
              "   AccountBalance PreviousTransactionDate  \n",
              "0         5112.21     2024-11-04 08:08:08  \n",
              "1        13758.91     2024-11-04 08:09:35  \n",
              "2         1122.35     2024-11-04 08:07:04  \n",
              "3         8569.06     2024-11-04 08:09:06  \n",
              "4         7429.40     2024-11-04 08:06:39  "
            ],
            "text/html": [
              "\n",
              "  <div id=\"df-5e80e09b-aff1-4dad-a4ab-4f3adf76cd71\" class=\"colab-df-container\">\n",
              "    <div>\n",
              "<style scoped>\n",
              "    .dataframe tbody tr th:only-of-type {\n",
              "        vertical-align: middle;\n",
              "    }\n",
              "\n",
              "    .dataframe tbody tr th {\n",
              "        vertical-align: top;\n",
              "    }\n",
              "\n",
              "    .dataframe thead th {\n",
              "        text-align: right;\n",
              "    }\n",
              "</style>\n",
              "<table border=\"1\" class=\"dataframe\">\n",
              "  <thead>\n",
              "    <tr style=\"text-align: right;\">\n",
              "      <th></th>\n",
              "      <th>TransactionID</th>\n",
              "      <th>AccountID</th>\n",
              "      <th>TransactionAmount</th>\n",
              "      <th>TransactionDate</th>\n",
              "      <th>TransactionType</th>\n",
              "      <th>Location</th>\n",
              "      <th>DeviceID</th>\n",
              "      <th>IP Address</th>\n",
              "      <th>MerchantID</th>\n",
              "      <th>Channel</th>\n",
              "      <th>CustomerAge</th>\n",
              "      <th>CustomerOccupation</th>\n",
              "      <th>TransactionDuration</th>\n",
              "      <th>LoginAttempts</th>\n",
              "      <th>AccountBalance</th>\n",
              "      <th>PreviousTransactionDate</th>\n",
              "    </tr>\n",
              "  </thead>\n",
              "  <tbody>\n",
              "    <tr>\n",
              "      <th>0</th>\n",
              "      <td>TX000001</td>\n",
              "      <td>AC00128</td>\n",
              "      <td>14.09</td>\n",
              "      <td>2023-04-11 16:29:14</td>\n",
              "      <td>Debit</td>\n",
              "      <td>San Diego</td>\n",
              "      <td>D000380</td>\n",
              "      <td>162.198.218.92</td>\n",
              "      <td>M015</td>\n",
              "      <td>ATM</td>\n",
              "      <td>70.0</td>\n",
              "      <td>Doctor</td>\n",
              "      <td>81.0</td>\n",
              "      <td>1.0</td>\n",
              "      <td>5112.21</td>\n",
              "      <td>2024-11-04 08:08:08</td>\n",
              "    </tr>\n",
              "    <tr>\n",
              "      <th>1</th>\n",
              "      <td>TX000002</td>\n",
              "      <td>AC00455</td>\n",
              "      <td>376.24</td>\n",
              "      <td>2023-06-27 16:44:19</td>\n",
              "      <td>Debit</td>\n",
              "      <td>Houston</td>\n",
              "      <td>D000051</td>\n",
              "      <td>13.149.61.4</td>\n",
              "      <td>M052</td>\n",
              "      <td>ATM</td>\n",
              "      <td>68.0</td>\n",
              "      <td>Doctor</td>\n",
              "      <td>141.0</td>\n",
              "      <td>1.0</td>\n",
              "      <td>13758.91</td>\n",
              "      <td>2024-11-04 08:09:35</td>\n",
              "    </tr>\n",
              "    <tr>\n",
              "      <th>2</th>\n",
              "      <td>TX000003</td>\n",
              "      <td>AC00019</td>\n",
              "      <td>126.29</td>\n",
              "      <td>2023-07-10 18:16:08</td>\n",
              "      <td>Debit</td>\n",
              "      <td>Mesa</td>\n",
              "      <td>D000235</td>\n",
              "      <td>215.97.143.157</td>\n",
              "      <td>M009</td>\n",
              "      <td>Online</td>\n",
              "      <td>19.0</td>\n",
              "      <td>Student</td>\n",
              "      <td>56.0</td>\n",
              "      <td>1.0</td>\n",
              "      <td>1122.35</td>\n",
              "      <td>2024-11-04 08:07:04</td>\n",
              "    </tr>\n",
              "    <tr>\n",
              "      <th>3</th>\n",
              "      <td>TX000004</td>\n",
              "      <td>AC00070</td>\n",
              "      <td>184.50</td>\n",
              "      <td>2023-05-05 16:32:11</td>\n",
              "      <td>Debit</td>\n",
              "      <td>Raleigh</td>\n",
              "      <td>D000187</td>\n",
              "      <td>200.13.225.150</td>\n",
              "      <td>M002</td>\n",
              "      <td>Online</td>\n",
              "      <td>26.0</td>\n",
              "      <td>Student</td>\n",
              "      <td>25.0</td>\n",
              "      <td>1.0</td>\n",
              "      <td>8569.06</td>\n",
              "      <td>2024-11-04 08:09:06</td>\n",
              "    </tr>\n",
              "    <tr>\n",
              "      <th>4</th>\n",
              "      <td>TX000005</td>\n",
              "      <td>AC00411</td>\n",
              "      <td>13.45</td>\n",
              "      <td>2023-10-16 17:51:24</td>\n",
              "      <td>Credit</td>\n",
              "      <td>Atlanta</td>\n",
              "      <td>D000308</td>\n",
              "      <td>65.164.3.100</td>\n",
              "      <td>M091</td>\n",
              "      <td>Online</td>\n",
              "      <td>NaN</td>\n",
              "      <td>Student</td>\n",
              "      <td>198.0</td>\n",
              "      <td>1.0</td>\n",
              "      <td>7429.40</td>\n",
              "      <td>2024-11-04 08:06:39</td>\n",
              "    </tr>\n",
              "  </tbody>\n",
              "</table>\n",
              "</div>\n",
              "    <div class=\"colab-df-buttons\">\n",
              "\n",
              "  <div class=\"colab-df-container\">\n",
              "    <button class=\"colab-df-convert\" onclick=\"convertToInteractive('df-5e80e09b-aff1-4dad-a4ab-4f3adf76cd71')\"\n",
              "            title=\"Convert this dataframe to an interactive table.\"\n",
              "            style=\"display:none;\">\n",
              "\n",
              "  <svg xmlns=\"http://www.w3.org/2000/svg\" height=\"24px\" viewBox=\"0 -960 960 960\">\n",
              "    <path d=\"M120-120v-720h720v720H120Zm60-500h600v-160H180v160Zm220 220h160v-160H400v160Zm0 220h160v-160H400v160ZM180-400h160v-160H180v160Zm440 0h160v-160H620v160ZM180-180h160v-160H180v160Zm440 0h160v-160H620v160Z\"/>\n",
              "  </svg>\n",
              "    </button>\n",
              "\n",
              "  <style>\n",
              "    .colab-df-container {\n",
              "      display:flex;\n",
              "      gap: 12px;\n",
              "    }\n",
              "\n",
              "    .colab-df-convert {\n",
              "      background-color: #E8F0FE;\n",
              "      border: none;\n",
              "      border-radius: 50%;\n",
              "      cursor: pointer;\n",
              "      display: none;\n",
              "      fill: #1967D2;\n",
              "      height: 32px;\n",
              "      padding: 0 0 0 0;\n",
              "      width: 32px;\n",
              "    }\n",
              "\n",
              "    .colab-df-convert:hover {\n",
              "      background-color: #E2EBFA;\n",
              "      box-shadow: 0px 1px 2px rgba(60, 64, 67, 0.3), 0px 1px 3px 1px rgba(60, 64, 67, 0.15);\n",
              "      fill: #174EA6;\n",
              "    }\n",
              "\n",
              "    .colab-df-buttons div {\n",
              "      margin-bottom: 4px;\n",
              "    }\n",
              "\n",
              "    [theme=dark] .colab-df-convert {\n",
              "      background-color: #3B4455;\n",
              "      fill: #D2E3FC;\n",
              "    }\n",
              "\n",
              "    [theme=dark] .colab-df-convert:hover {\n",
              "      background-color: #434B5C;\n",
              "      box-shadow: 0px 1px 3px 1px rgba(0, 0, 0, 0.15);\n",
              "      filter: drop-shadow(0px 1px 2px rgba(0, 0, 0, 0.3));\n",
              "      fill: #FFFFFF;\n",
              "    }\n",
              "  </style>\n",
              "\n",
              "    <script>\n",
              "      const buttonEl =\n",
              "        document.querySelector('#df-5e80e09b-aff1-4dad-a4ab-4f3adf76cd71 button.colab-df-convert');\n",
              "      buttonEl.style.display =\n",
              "        google.colab.kernel.accessAllowed ? 'block' : 'none';\n",
              "\n",
              "      async function convertToInteractive(key) {\n",
              "        const element = document.querySelector('#df-5e80e09b-aff1-4dad-a4ab-4f3adf76cd71');\n",
              "        const dataTable =\n",
              "          await google.colab.kernel.invokeFunction('convertToInteractive',\n",
              "                                                    [key], {});\n",
              "        if (!dataTable) return;\n",
              "\n",
              "        const docLinkHtml = 'Like what you see? Visit the ' +\n",
              "          '<a target=\"_blank\" href=https://colab.research.google.com/notebooks/data_table.ipynb>data table notebook</a>'\n",
              "          + ' to learn more about interactive tables.';\n",
              "        element.innerHTML = '';\n",
              "        dataTable['output_type'] = 'display_data';\n",
              "        await google.colab.output.renderOutput(dataTable, element);\n",
              "        const docLink = document.createElement('div');\n",
              "        docLink.innerHTML = docLinkHtml;\n",
              "        element.appendChild(docLink);\n",
              "      }\n",
              "    </script>\n",
              "  </div>\n",
              "\n",
              "\n",
              "    <div id=\"df-34005cf0-4d16-41e3-bf41-30b0cfa333dc\">\n",
              "      <button class=\"colab-df-quickchart\" onclick=\"quickchart('df-34005cf0-4d16-41e3-bf41-30b0cfa333dc')\"\n",
              "                title=\"Suggest charts\"\n",
              "                style=\"display:none;\">\n",
              "\n",
              "<svg xmlns=\"http://www.w3.org/2000/svg\" height=\"24px\"viewBox=\"0 0 24 24\"\n",
              "     width=\"24px\">\n",
              "    <g>\n",
              "        <path d=\"M19 3H5c-1.1 0-2 .9-2 2v14c0 1.1.9 2 2 2h14c1.1 0 2-.9 2-2V5c0-1.1-.9-2-2-2zM9 17H7v-7h2v7zm4 0h-2V7h2v10zm4 0h-2v-4h2v4z\"/>\n",
              "    </g>\n",
              "</svg>\n",
              "      </button>\n",
              "\n",
              "<style>\n",
              "  .colab-df-quickchart {\n",
              "      --bg-color: #E8F0FE;\n",
              "      --fill-color: #1967D2;\n",
              "      --hover-bg-color: #E2EBFA;\n",
              "      --hover-fill-color: #174EA6;\n",
              "      --disabled-fill-color: #AAA;\n",
              "      --disabled-bg-color: #DDD;\n",
              "  }\n",
              "\n",
              "  [theme=dark] .colab-df-quickchart {\n",
              "      --bg-color: #3B4455;\n",
              "      --fill-color: #D2E3FC;\n",
              "      --hover-bg-color: #434B5C;\n",
              "      --hover-fill-color: #FFFFFF;\n",
              "      --disabled-bg-color: #3B4455;\n",
              "      --disabled-fill-color: #666;\n",
              "  }\n",
              "\n",
              "  .colab-df-quickchart {\n",
              "    background-color: var(--bg-color);\n",
              "    border: none;\n",
              "    border-radius: 50%;\n",
              "    cursor: pointer;\n",
              "    display: none;\n",
              "    fill: var(--fill-color);\n",
              "    height: 32px;\n",
              "    padding: 0;\n",
              "    width: 32px;\n",
              "  }\n",
              "\n",
              "  .colab-df-quickchart:hover {\n",
              "    background-color: var(--hover-bg-color);\n",
              "    box-shadow: 0 1px 2px rgba(60, 64, 67, 0.3), 0 1px 3px 1px rgba(60, 64, 67, 0.15);\n",
              "    fill: var(--button-hover-fill-color);\n",
              "  }\n",
              "\n",
              "  .colab-df-quickchart-complete:disabled,\n",
              "  .colab-df-quickchart-complete:disabled:hover {\n",
              "    background-color: var(--disabled-bg-color);\n",
              "    fill: var(--disabled-fill-color);\n",
              "    box-shadow: none;\n",
              "  }\n",
              "\n",
              "  .colab-df-spinner {\n",
              "    border: 2px solid var(--fill-color);\n",
              "    border-color: transparent;\n",
              "    border-bottom-color: var(--fill-color);\n",
              "    animation:\n",
              "      spin 1s steps(1) infinite;\n",
              "  }\n",
              "\n",
              "  @keyframes spin {\n",
              "    0% {\n",
              "      border-color: transparent;\n",
              "      border-bottom-color: var(--fill-color);\n",
              "      border-left-color: var(--fill-color);\n",
              "    }\n",
              "    20% {\n",
              "      border-color: transparent;\n",
              "      border-left-color: var(--fill-color);\n",
              "      border-top-color: var(--fill-color);\n",
              "    }\n",
              "    30% {\n",
              "      border-color: transparent;\n",
              "      border-left-color: var(--fill-color);\n",
              "      border-top-color: var(--fill-color);\n",
              "      border-right-color: var(--fill-color);\n",
              "    }\n",
              "    40% {\n",
              "      border-color: transparent;\n",
              "      border-right-color: var(--fill-color);\n",
              "      border-top-color: var(--fill-color);\n",
              "    }\n",
              "    60% {\n",
              "      border-color: transparent;\n",
              "      border-right-color: var(--fill-color);\n",
              "    }\n",
              "    80% {\n",
              "      border-color: transparent;\n",
              "      border-right-color: var(--fill-color);\n",
              "      border-bottom-color: var(--fill-color);\n",
              "    }\n",
              "    90% {\n",
              "      border-color: transparent;\n",
              "      border-bottom-color: var(--fill-color);\n",
              "    }\n",
              "  }\n",
              "</style>\n",
              "\n",
              "      <script>\n",
              "        async function quickchart(key) {\n",
              "          const quickchartButtonEl =\n",
              "            document.querySelector('#' + key + ' button');\n",
              "          quickchartButtonEl.disabled = true;  // To prevent multiple clicks.\n",
              "          quickchartButtonEl.classList.add('colab-df-spinner');\n",
              "          try {\n",
              "            const charts = await google.colab.kernel.invokeFunction(\n",
              "                'suggestCharts', [key], {});\n",
              "          } catch (error) {\n",
              "            console.error('Error during call to suggestCharts:', error);\n",
              "          }\n",
              "          quickchartButtonEl.classList.remove('colab-df-spinner');\n",
              "          quickchartButtonEl.classList.add('colab-df-quickchart-complete');\n",
              "        }\n",
              "        (() => {\n",
              "          let quickchartButtonEl =\n",
              "            document.querySelector('#df-34005cf0-4d16-41e3-bf41-30b0cfa333dc button');\n",
              "          quickchartButtonEl.style.display =\n",
              "            google.colab.kernel.accessAllowed ? 'block' : 'none';\n",
              "        })();\n",
              "      </script>\n",
              "    </div>\n",
              "\n",
              "    </div>\n",
              "  </div>\n"
            ],
            "application/vnd.google.colaboratory.intrinsic+json": {
              "type": "dataframe",
              "variable_name": "Bank_data",
              "summary": "{\n  \"name\": \"Bank_data\",\n  \"rows\": 2537,\n  \"fields\": [\n    {\n      \"column\": \"TransactionID\",\n      \"properties\": {\n        \"dtype\": \"string\",\n        \"num_unique_values\": 2484,\n        \"samples\": [\n          \"TX000425\",\n          \"TX001324\",\n          \"TX002042\"\n        ],\n        \"semantic_type\": \"\",\n        \"description\": \"\"\n      }\n    },\n    {\n      \"column\": \"AccountID\",\n      \"properties\": {\n        \"dtype\": \"category\",\n        \"num_unique_values\": 495,\n        \"samples\": [\n          \"AC00059\",\n          \"AC00022\",\n          \"AC00127\"\n        ],\n        \"semantic_type\": \"\",\n        \"description\": \"\"\n      }\n    },\n    {\n      \"column\": \"TransactionAmount\",\n      \"properties\": {\n        \"dtype\": \"number\",\n        \"std\": 292.23036746912936,\n        \"min\": 0.26,\n        \"max\": 1919.11,\n        \"num_unique_values\": 2433,\n        \"samples\": [\n          689.29,\n          879.25,\n          342.17\n        ],\n        \"semantic_type\": \"\",\n        \"description\": \"\"\n      }\n    },\n    {\n      \"column\": \"TransactionDate\",\n      \"properties\": {\n        \"dtype\": \"object\",\n        \"num_unique_values\": 2485,\n        \"samples\": [\n          \"2023-04-19 17:03:11\",\n          \"2023-01-12 17:58:56\",\n          \"2023-10-31 16:05:00\"\n        ],\n        \"semantic_type\": \"\",\n        \"description\": \"\"\n      }\n    },\n    {\n      \"column\": \"TransactionType\",\n      \"properties\": {\n        \"dtype\": \"category\",\n        \"num_unique_values\": 2,\n        \"samples\": [\n          \"Credit\",\n          \"Debit\"\n        ],\n        \"semantic_type\": \"\",\n        \"description\": \"\"\n      }\n    },\n    {\n      \"column\": \"Location\",\n      \"properties\": {\n        \"dtype\": \"category\",\n        \"num_unique_values\": 43,\n        \"samples\": [\n          \"Phoenix\",\n          \"San Jose\"\n        ],\n        \"semantic_type\": \"\",\n        \"description\": \"\"\n      }\n    },\n    {\n      \"column\": \"DeviceID\",\n      \"properties\": {\n        \"dtype\": \"category\",\n        \"num_unique_values\": 681,\n        \"samples\": [\n          \"D000062\",\n          \"D000244\"\n        ],\n        \"semantic_type\": \"\",\n        \"description\": \"\"\n      }\n    },\n    {\n      \"column\": \"IP Address\",\n      \"properties\": {\n        \"dtype\": \"category\",\n        \"num_unique_values\": 591,\n        \"samples\": [\n          \"3.102.127.165\",\n          \"22.196.202.183\"\n        ],\n        \"semantic_type\": \"\",\n        \"description\": \"\"\n      }\n    },\n    {\n      \"column\": \"MerchantID\",\n      \"properties\": {\n        \"dtype\": \"category\",\n        \"num_unique_values\": 100,\n        \"samples\": [\n          \"M072\",\n          \"M032\"\n        ],\n        \"semantic_type\": \"\",\n        \"description\": \"\"\n      }\n    },\n    {\n      \"column\": \"Channel\",\n      \"properties\": {\n        \"dtype\": \"category\",\n        \"num_unique_values\": 3,\n        \"samples\": [\n          \"ATM\",\n          \"Online\"\n        ],\n        \"semantic_type\": \"\",\n        \"description\": \"\"\n      }\n    },\n    {\n      \"column\": \"CustomerAge\",\n      \"properties\": {\n        \"dtype\": \"number\",\n        \"std\": 17.83735916133878,\n        \"min\": 18.0,\n        \"max\": 80.0,\n        \"num_unique_values\": 63,\n        \"samples\": [\n          73.0,\n          77.0\n        ],\n        \"semantic_type\": \"\",\n        \"description\": \"\"\n      }\n    },\n    {\n      \"column\": \"CustomerOccupation\",\n      \"properties\": {\n        \"dtype\": \"category\",\n        \"num_unique_values\": 4,\n        \"samples\": [\n          \"Student\",\n          \"Engineer\"\n        ],\n        \"semantic_type\": \"\",\n        \"description\": \"\"\n      }\n    },\n    {\n      \"column\": \"TransactionDuration\",\n      \"properties\": {\n        \"dtype\": \"number\",\n        \"std\": 70.0785127104524,\n        \"min\": 10.0,\n        \"max\": 300.0,\n        \"num_unique_values\": 288,\n        \"samples\": [\n          138.0,\n          37.0\n        ],\n        \"semantic_type\": \"\",\n        \"description\": \"\"\n      }\n    },\n    {\n      \"column\": \"LoginAttempts\",\n      \"properties\": {\n        \"dtype\": \"number\",\n        \"std\": 0.5944688003470012,\n        \"min\": 1.0,\n        \"max\": 5.0,\n        \"num_unique_values\": 5,\n        \"samples\": [\n          3.0,\n          4.0\n        ],\n        \"semantic_type\": \"\",\n        \"description\": \"\"\n      }\n    },\n    {\n      \"column\": \"AccountBalance\",\n      \"properties\": {\n        \"dtype\": \"number\",\n        \"std\": 3897.9758606498735,\n        \"min\": 101.25,\n        \"max\": 14977.99,\n        \"num_unique_values\": 2483,\n        \"samples\": [\n          11847.07,\n          219.53\n        ],\n        \"semantic_type\": \"\",\n        \"description\": \"\"\n      }\n    },\n    {\n      \"column\": \"PreviousTransactionDate\",\n      \"properties\": {\n        \"dtype\": \"object\",\n        \"num_unique_values\": 360,\n        \"samples\": [\n          \"2024-11-04 08:11:30\",\n          \"2024-11-04 08:09:53\"\n        ],\n        \"semantic_type\": \"\",\n        \"description\": \"\"\n      }\n    }\n  ]\n}"
            }
          },
          "metadata": {},
          "execution_count": 472
        }
      ]
    },
    {
      "cell_type": "markdown",
      "source": [
        "code .head() pada pandas memungkinkan untuk membaca data dari dataset yang sudah dipanggil tadi, dan mengeluarkan output berupa nilai data pada kolom yang ada di dataset"
      ],
      "metadata": {
        "id": "TkSKJQX0weLr"
      }
    },
    {
      "cell_type": "code",
      "source": [
        "Bank_data.info()"
      ],
      "metadata": {
        "colab": {
          "base_uri": "https://localhost:8080/"
        },
        "id": "cZ92n4daEier",
        "outputId": "d68c3270-1c74-489f-8b0f-5a74e3f56888"
      },
      "execution_count": 473,
      "outputs": [
        {
          "output_type": "stream",
          "name": "stdout",
          "text": [
            "<class 'pandas.core.frame.DataFrame'>\n",
            "RangeIndex: 2537 entries, 0 to 2536\n",
            "Data columns (total 16 columns):\n",
            " #   Column                   Non-Null Count  Dtype  \n",
            "---  ------                   --------------  -----  \n",
            " 0   TransactionID            2508 non-null   object \n",
            " 1   AccountID                2516 non-null   object \n",
            " 2   TransactionAmount        2511 non-null   float64\n",
            " 3   TransactionDate          2509 non-null   object \n",
            " 4   TransactionType          2507 non-null   object \n",
            " 5   Location                 2507 non-null   object \n",
            " 6   DeviceID                 2507 non-null   object \n",
            " 7   IP Address               2517 non-null   object \n",
            " 8   MerchantID               2514 non-null   object \n",
            " 9   Channel                  2510 non-null   object \n",
            " 10  CustomerAge              2519 non-null   float64\n",
            " 11  CustomerOccupation       2514 non-null   object \n",
            " 12  TransactionDuration      2511 non-null   float64\n",
            " 13  LoginAttempts            2516 non-null   float64\n",
            " 14  AccountBalance           2510 non-null   float64\n",
            " 15  PreviousTransactionDate  2513 non-null   object \n",
            "dtypes: float64(5), object(11)\n",
            "memory usage: 317.3+ KB\n"
          ]
        }
      ]
    },
    {
      "cell_type": "markdown",
      "source": [
        "kemudian ada .info() yang mengeluarkan output info dari setiap kolom pada dataset mulai dari nama kolom, jumlah barisnya dan juga type data dari kolomnya.\n",
        "untuk lebih rinci kolom setiap data yaitu :\n",
        "\n",
        "\n",
        "| Fitur                 | Deskripsi                          |\n",
        "| --------------------- | ---------------------------------- |\n",
        "| `TransactionAmount`   | Nilai transaksi                    |\n",
        "| `TransactionType`     | Debit / Credit                     |\n",
        "| `Location`            | Kota asal transaksi                |\n",
        "| `Channel`             | ATM / Online / Branch              |\n",
        "| `CustomerAge`         | Umur pelanggan (ada missing value) |\n",
        "| `CustomerOccupation`  | Pekerjaan pelanggan                |\n",
        "| `TransactionDuration` | Lama waktu transaksi (detik?)      |\n",
        "| `LoginAttempts`       | Jumlah percobaan login             |\n",
        "| `TransactionID`       | Id Transaksi pelanggan             |\n",
        "| `AccountID`           | Acount Id pelanggan                |\n",
        "| `IP Address`          | IP Addres dari Pelanggan           |\n",
        "| `DeviceID`            | ID Device dari pelanggan           |\n",
        "| `MerchantID `         | ID MErchant                        |\n"
      ],
      "metadata": {
        "id": "uTIhL_3hfFs8"
      }
    },
    {
      "cell_type": "code",
      "source": [
        "Bank_data.describe()"
      ],
      "metadata": {
        "id": "kuImpJFGKTjD",
        "colab": {
          "base_uri": "https://localhost:8080/",
          "height": 300
        },
        "outputId": "f69a12a4-740e-4a6c-e4a3-786918cde7d4"
      },
      "execution_count": 474,
      "outputs": [
        {
          "output_type": "execute_result",
          "data": {
            "text/plain": [
              "       TransactionAmount  CustomerAge  TransactionDuration  LoginAttempts  \\\n",
              "count        2511.000000  2519.000000          2511.000000    2516.000000   \n",
              "mean          297.656468    44.678444           119.422939       1.121622   \n",
              "std           292.230367    17.837359            70.078513       0.594469   \n",
              "min             0.260000    18.000000            10.000000       1.000000   \n",
              "25%            81.310000    27.000000            63.000000       1.000000   \n",
              "50%           211.360000    45.000000           112.000000       1.000000   \n",
              "75%           413.105000    59.000000           161.000000       1.000000   \n",
              "max          1919.110000    80.000000           300.000000       5.000000   \n",
              "\n",
              "       AccountBalance  \n",
              "count     2510.000000  \n",
              "mean      5113.438124  \n",
              "std       3897.975861  \n",
              "min        101.250000  \n",
              "25%       1504.727500  \n",
              "50%       4734.110000  \n",
              "75%       7672.687500  \n",
              "max      14977.990000  "
            ],
            "text/html": [
              "\n",
              "  <div id=\"df-8b7a5267-2c5b-45d1-9a8c-8d7f2ec9dc41\" class=\"colab-df-container\">\n",
              "    <div>\n",
              "<style scoped>\n",
              "    .dataframe tbody tr th:only-of-type {\n",
              "        vertical-align: middle;\n",
              "    }\n",
              "\n",
              "    .dataframe tbody tr th {\n",
              "        vertical-align: top;\n",
              "    }\n",
              "\n",
              "    .dataframe thead th {\n",
              "        text-align: right;\n",
              "    }\n",
              "</style>\n",
              "<table border=\"1\" class=\"dataframe\">\n",
              "  <thead>\n",
              "    <tr style=\"text-align: right;\">\n",
              "      <th></th>\n",
              "      <th>TransactionAmount</th>\n",
              "      <th>CustomerAge</th>\n",
              "      <th>TransactionDuration</th>\n",
              "      <th>LoginAttempts</th>\n",
              "      <th>AccountBalance</th>\n",
              "    </tr>\n",
              "  </thead>\n",
              "  <tbody>\n",
              "    <tr>\n",
              "      <th>count</th>\n",
              "      <td>2511.000000</td>\n",
              "      <td>2519.000000</td>\n",
              "      <td>2511.000000</td>\n",
              "      <td>2516.000000</td>\n",
              "      <td>2510.000000</td>\n",
              "    </tr>\n",
              "    <tr>\n",
              "      <th>mean</th>\n",
              "      <td>297.656468</td>\n",
              "      <td>44.678444</td>\n",
              "      <td>119.422939</td>\n",
              "      <td>1.121622</td>\n",
              "      <td>5113.438124</td>\n",
              "    </tr>\n",
              "    <tr>\n",
              "      <th>std</th>\n",
              "      <td>292.230367</td>\n",
              "      <td>17.837359</td>\n",
              "      <td>70.078513</td>\n",
              "      <td>0.594469</td>\n",
              "      <td>3897.975861</td>\n",
              "    </tr>\n",
              "    <tr>\n",
              "      <th>min</th>\n",
              "      <td>0.260000</td>\n",
              "      <td>18.000000</td>\n",
              "      <td>10.000000</td>\n",
              "      <td>1.000000</td>\n",
              "      <td>101.250000</td>\n",
              "    </tr>\n",
              "    <tr>\n",
              "      <th>25%</th>\n",
              "      <td>81.310000</td>\n",
              "      <td>27.000000</td>\n",
              "      <td>63.000000</td>\n",
              "      <td>1.000000</td>\n",
              "      <td>1504.727500</td>\n",
              "    </tr>\n",
              "    <tr>\n",
              "      <th>50%</th>\n",
              "      <td>211.360000</td>\n",
              "      <td>45.000000</td>\n",
              "      <td>112.000000</td>\n",
              "      <td>1.000000</td>\n",
              "      <td>4734.110000</td>\n",
              "    </tr>\n",
              "    <tr>\n",
              "      <th>75%</th>\n",
              "      <td>413.105000</td>\n",
              "      <td>59.000000</td>\n",
              "      <td>161.000000</td>\n",
              "      <td>1.000000</td>\n",
              "      <td>7672.687500</td>\n",
              "    </tr>\n",
              "    <tr>\n",
              "      <th>max</th>\n",
              "      <td>1919.110000</td>\n",
              "      <td>80.000000</td>\n",
              "      <td>300.000000</td>\n",
              "      <td>5.000000</td>\n",
              "      <td>14977.990000</td>\n",
              "    </tr>\n",
              "  </tbody>\n",
              "</table>\n",
              "</div>\n",
              "    <div class=\"colab-df-buttons\">\n",
              "\n",
              "  <div class=\"colab-df-container\">\n",
              "    <button class=\"colab-df-convert\" onclick=\"convertToInteractive('df-8b7a5267-2c5b-45d1-9a8c-8d7f2ec9dc41')\"\n",
              "            title=\"Convert this dataframe to an interactive table.\"\n",
              "            style=\"display:none;\">\n",
              "\n",
              "  <svg xmlns=\"http://www.w3.org/2000/svg\" height=\"24px\" viewBox=\"0 -960 960 960\">\n",
              "    <path d=\"M120-120v-720h720v720H120Zm60-500h600v-160H180v160Zm220 220h160v-160H400v160Zm0 220h160v-160H400v160ZM180-400h160v-160H180v160Zm440 0h160v-160H620v160ZM180-180h160v-160H180v160Zm440 0h160v-160H620v160Z\"/>\n",
              "  </svg>\n",
              "    </button>\n",
              "\n",
              "  <style>\n",
              "    .colab-df-container {\n",
              "      display:flex;\n",
              "      gap: 12px;\n",
              "    }\n",
              "\n",
              "    .colab-df-convert {\n",
              "      background-color: #E8F0FE;\n",
              "      border: none;\n",
              "      border-radius: 50%;\n",
              "      cursor: pointer;\n",
              "      display: none;\n",
              "      fill: #1967D2;\n",
              "      height: 32px;\n",
              "      padding: 0 0 0 0;\n",
              "      width: 32px;\n",
              "    }\n",
              "\n",
              "    .colab-df-convert:hover {\n",
              "      background-color: #E2EBFA;\n",
              "      box-shadow: 0px 1px 2px rgba(60, 64, 67, 0.3), 0px 1px 3px 1px rgba(60, 64, 67, 0.15);\n",
              "      fill: #174EA6;\n",
              "    }\n",
              "\n",
              "    .colab-df-buttons div {\n",
              "      margin-bottom: 4px;\n",
              "    }\n",
              "\n",
              "    [theme=dark] .colab-df-convert {\n",
              "      background-color: #3B4455;\n",
              "      fill: #D2E3FC;\n",
              "    }\n",
              "\n",
              "    [theme=dark] .colab-df-convert:hover {\n",
              "      background-color: #434B5C;\n",
              "      box-shadow: 0px 1px 3px 1px rgba(0, 0, 0, 0.15);\n",
              "      filter: drop-shadow(0px 1px 2px rgba(0, 0, 0, 0.3));\n",
              "      fill: #FFFFFF;\n",
              "    }\n",
              "  </style>\n",
              "\n",
              "    <script>\n",
              "      const buttonEl =\n",
              "        document.querySelector('#df-8b7a5267-2c5b-45d1-9a8c-8d7f2ec9dc41 button.colab-df-convert');\n",
              "      buttonEl.style.display =\n",
              "        google.colab.kernel.accessAllowed ? 'block' : 'none';\n",
              "\n",
              "      async function convertToInteractive(key) {\n",
              "        const element = document.querySelector('#df-8b7a5267-2c5b-45d1-9a8c-8d7f2ec9dc41');\n",
              "        const dataTable =\n",
              "          await google.colab.kernel.invokeFunction('convertToInteractive',\n",
              "                                                    [key], {});\n",
              "        if (!dataTable) return;\n",
              "\n",
              "        const docLinkHtml = 'Like what you see? Visit the ' +\n",
              "          '<a target=\"_blank\" href=https://colab.research.google.com/notebooks/data_table.ipynb>data table notebook</a>'\n",
              "          + ' to learn more about interactive tables.';\n",
              "        element.innerHTML = '';\n",
              "        dataTable['output_type'] = 'display_data';\n",
              "        await google.colab.output.renderOutput(dataTable, element);\n",
              "        const docLink = document.createElement('div');\n",
              "        docLink.innerHTML = docLinkHtml;\n",
              "        element.appendChild(docLink);\n",
              "      }\n",
              "    </script>\n",
              "  </div>\n",
              "\n",
              "\n",
              "    <div id=\"df-ff1a11e4-18b4-4f46-8796-744703beb2b9\">\n",
              "      <button class=\"colab-df-quickchart\" onclick=\"quickchart('df-ff1a11e4-18b4-4f46-8796-744703beb2b9')\"\n",
              "                title=\"Suggest charts\"\n",
              "                style=\"display:none;\">\n",
              "\n",
              "<svg xmlns=\"http://www.w3.org/2000/svg\" height=\"24px\"viewBox=\"0 0 24 24\"\n",
              "     width=\"24px\">\n",
              "    <g>\n",
              "        <path d=\"M19 3H5c-1.1 0-2 .9-2 2v14c0 1.1.9 2 2 2h14c1.1 0 2-.9 2-2V5c0-1.1-.9-2-2-2zM9 17H7v-7h2v7zm4 0h-2V7h2v10zm4 0h-2v-4h2v4z\"/>\n",
              "    </g>\n",
              "</svg>\n",
              "      </button>\n",
              "\n",
              "<style>\n",
              "  .colab-df-quickchart {\n",
              "      --bg-color: #E8F0FE;\n",
              "      --fill-color: #1967D2;\n",
              "      --hover-bg-color: #E2EBFA;\n",
              "      --hover-fill-color: #174EA6;\n",
              "      --disabled-fill-color: #AAA;\n",
              "      --disabled-bg-color: #DDD;\n",
              "  }\n",
              "\n",
              "  [theme=dark] .colab-df-quickchart {\n",
              "      --bg-color: #3B4455;\n",
              "      --fill-color: #D2E3FC;\n",
              "      --hover-bg-color: #434B5C;\n",
              "      --hover-fill-color: #FFFFFF;\n",
              "      --disabled-bg-color: #3B4455;\n",
              "      --disabled-fill-color: #666;\n",
              "  }\n",
              "\n",
              "  .colab-df-quickchart {\n",
              "    background-color: var(--bg-color);\n",
              "    border: none;\n",
              "    border-radius: 50%;\n",
              "    cursor: pointer;\n",
              "    display: none;\n",
              "    fill: var(--fill-color);\n",
              "    height: 32px;\n",
              "    padding: 0;\n",
              "    width: 32px;\n",
              "  }\n",
              "\n",
              "  .colab-df-quickchart:hover {\n",
              "    background-color: var(--hover-bg-color);\n",
              "    box-shadow: 0 1px 2px rgba(60, 64, 67, 0.3), 0 1px 3px 1px rgba(60, 64, 67, 0.15);\n",
              "    fill: var(--button-hover-fill-color);\n",
              "  }\n",
              "\n",
              "  .colab-df-quickchart-complete:disabled,\n",
              "  .colab-df-quickchart-complete:disabled:hover {\n",
              "    background-color: var(--disabled-bg-color);\n",
              "    fill: var(--disabled-fill-color);\n",
              "    box-shadow: none;\n",
              "  }\n",
              "\n",
              "  .colab-df-spinner {\n",
              "    border: 2px solid var(--fill-color);\n",
              "    border-color: transparent;\n",
              "    border-bottom-color: var(--fill-color);\n",
              "    animation:\n",
              "      spin 1s steps(1) infinite;\n",
              "  }\n",
              "\n",
              "  @keyframes spin {\n",
              "    0% {\n",
              "      border-color: transparent;\n",
              "      border-bottom-color: var(--fill-color);\n",
              "      border-left-color: var(--fill-color);\n",
              "    }\n",
              "    20% {\n",
              "      border-color: transparent;\n",
              "      border-left-color: var(--fill-color);\n",
              "      border-top-color: var(--fill-color);\n",
              "    }\n",
              "    30% {\n",
              "      border-color: transparent;\n",
              "      border-left-color: var(--fill-color);\n",
              "      border-top-color: var(--fill-color);\n",
              "      border-right-color: var(--fill-color);\n",
              "    }\n",
              "    40% {\n",
              "      border-color: transparent;\n",
              "      border-right-color: var(--fill-color);\n",
              "      border-top-color: var(--fill-color);\n",
              "    }\n",
              "    60% {\n",
              "      border-color: transparent;\n",
              "      border-right-color: var(--fill-color);\n",
              "    }\n",
              "    80% {\n",
              "      border-color: transparent;\n",
              "      border-right-color: var(--fill-color);\n",
              "      border-bottom-color: var(--fill-color);\n",
              "    }\n",
              "    90% {\n",
              "      border-color: transparent;\n",
              "      border-bottom-color: var(--fill-color);\n",
              "    }\n",
              "  }\n",
              "</style>\n",
              "\n",
              "      <script>\n",
              "        async function quickchart(key) {\n",
              "          const quickchartButtonEl =\n",
              "            document.querySelector('#' + key + ' button');\n",
              "          quickchartButtonEl.disabled = true;  // To prevent multiple clicks.\n",
              "          quickchartButtonEl.classList.add('colab-df-spinner');\n",
              "          try {\n",
              "            const charts = await google.colab.kernel.invokeFunction(\n",
              "                'suggestCharts', [key], {});\n",
              "          } catch (error) {\n",
              "            console.error('Error during call to suggestCharts:', error);\n",
              "          }\n",
              "          quickchartButtonEl.classList.remove('colab-df-spinner');\n",
              "          quickchartButtonEl.classList.add('colab-df-quickchart-complete');\n",
              "        }\n",
              "        (() => {\n",
              "          let quickchartButtonEl =\n",
              "            document.querySelector('#df-ff1a11e4-18b4-4f46-8796-744703beb2b9 button');\n",
              "          quickchartButtonEl.style.display =\n",
              "            google.colab.kernel.accessAllowed ? 'block' : 'none';\n",
              "        })();\n",
              "      </script>\n",
              "    </div>\n",
              "\n",
              "    </div>\n",
              "  </div>\n"
            ],
            "application/vnd.google.colaboratory.intrinsic+json": {
              "type": "dataframe",
              "summary": "{\n  \"name\": \"Bank_data\",\n  \"rows\": 8,\n  \"fields\": [\n    {\n      \"column\": \"TransactionAmount\",\n      \"properties\": {\n        \"dtype\": \"number\",\n        \"std\": 947.5993920594391,\n        \"min\": 0.26,\n        \"max\": 2511.0,\n        \"num_unique_values\": 8,\n        \"samples\": [\n          297.6564675428116,\n          211.36,\n          2511.0\n        ],\n        \"semantic_type\": \"\",\n        \"description\": \"\"\n      }\n    },\n    {\n      \"column\": \"CustomerAge\",\n      \"properties\": {\n        \"dtype\": \"number\",\n        \"std\": 876.1326913421283,\n        \"min\": 17.83735916133878,\n        \"max\": 2519.0,\n        \"num_unique_values\": 8,\n        \"samples\": [\n          44.67844382691544,\n          45.0,\n          2519.0\n        ],\n        \"semantic_type\": \"\",\n        \"description\": \"\"\n      }\n    },\n    {\n      \"column\": \"TransactionDuration\",\n      \"properties\": {\n        \"dtype\": \"number\",\n        \"std\": 849.953262620521,\n        \"min\": 10.0,\n        \"max\": 2511.0,\n        \"num_unique_values\": 8,\n        \"samples\": [\n          119.42293906810036,\n          112.0,\n          2511.0\n        ],\n        \"semantic_type\": \"\",\n        \"description\": \"\"\n      }\n    },\n    {\n      \"column\": \"LoginAttempts\",\n      \"properties\": {\n        \"dtype\": \"number\",\n        \"std\": 889.0002278827087,\n        \"min\": 0.5944688003470012,\n        \"max\": 2516.0,\n        \"num_unique_values\": 5,\n        \"samples\": [\n          1.1216216216216217,\n          5.0,\n          0.5944688003470012\n        ],\n        \"semantic_type\": \"\",\n        \"description\": \"\"\n      }\n    },\n    {\n      \"column\": \"AccountBalance\",\n      \"properties\": {\n        \"dtype\": \"number\",\n        \"std\": 4635.0151227093575,\n        \"min\": 101.25,\n        \"max\": 14977.99,\n        \"num_unique_values\": 8,\n        \"samples\": [\n          5113.438123505975,\n          4734.110000000001,\n          2510.0\n        ],\n        \"semantic_type\": \"\",\n        \"description\": \"\"\n      }\n    }\n  ]\n}"
            }
          },
          "metadata": {},
          "execution_count": 474
        }
      ]
    },
    {
      "cell_type": "markdown",
      "source": [
        "kemudian dengan bantuan .describe() berguna untuk melihat data dari setiap kolom mulai dari jumlah, nilai mean,std,min,25%,50%,75% dan nilai max dari setiap kolom yang ada"
      ],
      "metadata": {
        "id": "GlPhPES6xIWt"
      }
    },
    {
      "cell_type": "markdown",
      "source": [
        "## Visualisasi DATA\n",
        "\n",
        "pada tahap ini akan dilakukan 3 visualisasi:\n",
        "* tipe transaksi yang digunakan\n",
        "* pekerjaan Costumer\n",
        "* Negara dari costumer"
      ],
      "metadata": {
        "id": "ZraGrm75xdi-"
      }
    },
    {
      "cell_type": "markdown",
      "source": [
        "### Visualisasi Tipe transaksi"
      ],
      "metadata": {
        "id": "BCKGFXw8xwq5"
      }
    },
    {
      "cell_type": "code",
      "source": [
        "plt.figure(figsize=(7, 7))\n",
        "plt.pie(Bank_data['TransactionType'].value_counts(), labels=['Debit', 'Credit'], autopct='%1.1f%%', startangle=90)\n",
        "plt.title('TransactionType Distribution')\n",
        "plt.show()"
      ],
      "metadata": {
        "colab": {
          "base_uri": "https://localhost:8080/",
          "height": 598
        },
        "id": "MjGz3xXC8X1b",
        "outputId": "e675949b-177e-4c88-8be7-263cce206b4e"
      },
      "execution_count": 475,
      "outputs": [
        {
          "output_type": "display_data",
          "data": {
            "text/plain": [
              "<Figure size 700x700 with 1 Axes>"
            ],
            "image/png": "[encoded data removed]"
          },
          "metadata": {}
        }
      ]
    },
    {
      "cell_type": "markdown",
      "source": [
        "Pada Visualisasi yang telah dilakukan, dilihat disini kebanyakan costumer menggunakan debit dalam transaksi dibandingkan credit yaitu 77.5% costumer menggunakan Debit dan 22.5% menggunakan credit"
      ],
      "metadata": {
        "id": "wCMapyYYx3fk"
      }
    },
    {
      "cell_type": "markdown",
      "source": [
        "### Pekerjaan Costumer"
      ],
      "metadata": {
        "id": "O27B1adjyHk1"
      }
    },
    {
      "cell_type": "code",
      "source": [
        "Costumer = Bank_data.CustomerOccupation.value_counts()\n",
        "\n",
        "plt.figure(figsize=(10, 6))\n",
        "sns.barplot(x=Costumer.index, y=Costumer.values, palette=\"viridis\")\n",
        "plt.title(\"Distribusi CustomerOccupation\", fontsize=16)\n",
        "plt.xlabel(\"Pekerjaan\", fontsize=12)\n",
        "plt.ylabel(\"Jumlah\", fontsize=12)\n",
        "plt.xticks(rotation=30)\n",
        "plt.tight_layout()\n",
        "plt.show()"
      ],
      "metadata": {
        "colab": {
          "base_uri": "https://localhost:8080/",
          "height": 718
        },
        "id": "qP0-VbIM9ZSi",
        "outputId": "d201bc35-b896-48e2-f736-92d3e85cdfac"
      },
      "execution_count": 476,
      "outputs": [
        {
          "output_type": "stream",
          "name": "stderr",
          "text": [
            "<ipython-input-476-1a478037c99d>:4: FutureWarning: \n",
            "\n",
            "Passing `palette` without assigning `hue` is deprecated and will be removed in v0.14.0. Assign the `x` variable to `hue` and set `legend=False` for the same effect.\n",
            "\n",
            "  sns.barplot(x=Costumer.index, y=Costumer.values, palette=\"viridis\")\n"
          ]
        },
        {
          "output_type": "display_data",
          "data": {
            "text/plain": [
              "<Figure size 1000x600 with 1 Axes>"
            ],
            "image/png": "[encoded data removed]"
          },
          "metadata": {}
        }
      ]
    },
    {
      "cell_type": "markdown",
      "source": [
        "Pada Visualisasi data di atas, dilihat bahwa costumer lebih banyak berstatus pelajar dengan jumlah lebih dari 600 data, dan paling dikit adalah pensiunan, dilihat data ini jumlah perbedaanya tidak terlalu jauh dari satu data ke data yang lain"
      ],
      "metadata": {
        "id": "AtagAwXhyuZc"
      }
    },
    {
      "cell_type": "markdown",
      "source": [
        "### Negara dari Costumer"
      ],
      "metadata": {
        "id": "BHawFjVdzHyQ"
      }
    },
    {
      "cell_type": "code",
      "source": [
        "location_counts = Bank_data['Location'].value_counts()\n",
        "\n",
        "plt.figure(figsize=(10, 6))\n",
        "sns.barplot(y=location_counts.index, x=location_counts.values, palette='Set2')\n",
        "plt.title('Jumlah Transaksi per Lokasi')\n",
        "plt.xlabel('Jumlah')\n",
        "plt.ylabel('Lokasi')\n",
        "plt.tight_layout()\n",
        "plt.show()"
      ],
      "metadata": {
        "colab": {
          "base_uri": "https://localhost:8080/",
          "height": 718
        },
        "id": "hEj253aC_UPU",
        "outputId": "8e5589d2-2b3f-4ceb-bc9c-c9bcbc10e7fc"
      },
      "execution_count": 477,
      "outputs": [
        {
          "output_type": "stream",
          "name": "stderr",
          "text": [
            "<ipython-input-477-a1c9d06ab471>:4: FutureWarning: \n",
            "\n",
            "Passing `palette` without assigning `hue` is deprecated and will be removed in v0.14.0. Assign the `y` variable to `hue` and set `legend=False` for the same effect.\n",
            "\n",
            "  sns.barplot(y=location_counts.index, x=location_counts.values, palette='Set2')\n"
          ]
        },
        {
          "output_type": "display_data",
          "data": {
            "text/plain": [
              "<Figure size 1000x600 with 1 Axes>"
            ],
            "image/png": "[encoded data removed]"
          },
          "metadata": {}
        }
      ]
    },
    {
      "cell_type": "markdown",
      "source": [
        "Dari Visualisasi di atas dilihat bahwa jumlah transaksi terbanyak ada di lokasi fort worth yaitu di atas 60 dan paling sedikit ada di albuquerque yaitu dengan jumlah dibawah 40"
      ],
      "metadata": {
        "id": "TmLbFyG6zdxe"
      }
    },
    {
      "cell_type": "markdown",
      "source": [
        "# Pra Pemrosesan Data\n",
        "\n",
        "Pada tahapan ini ada beberapa langkah yaitu:\n",
        "* memperbaiki type data\n",
        "* membersihkan missing value dan duplicated\n",
        "* menghilankan kolom yang tidak perlu dalam dataset\n",
        "* Pembersihan Outlier data\n",
        "* Melakukan  feature scaling\n",
        "* melakukan feature encoding\n"
      ],
      "metadata": {
        "id": "amNACWVCz-Hr"
      }
    },
    {
      "cell_type": "markdown",
      "source": [
        "## Memperbaiki Type data"
      ],
      "metadata": {
        "id": "tpiVaZYW71Lp"
      }
    },
    {
      "cell_type": "markdown",
      "source": [
        "Pada colom :\n",
        "* TransactionDate\n",
        "* PreviousTransactionDate\n",
        "\n",
        "type data yang digunakan salah, seharusnya menggunakan type datetime bukan sebuah object maka dari itu perlu dilakukan perbaikan"
      ],
      "metadata": {
        "id": "_68ipAWe73tl"
      }
    },
    {
      "cell_type": "code",
      "source": [
        "Bank_data['TransactionDate'] = pd.to_datetime(Bank_data['TransactionDate'], errors='coerce')\n",
        "Bank_data['PreviousTransactionDate'] = pd.to_datetime(Bank_data['PreviousTransactionDate'], errors='coerce')"
      ],
      "metadata": {
        "id": "UcDmkstW8M55"
      },
      "execution_count": 478,
      "outputs": []
    },
    {
      "cell_type": "markdown",
      "source": [
        "## Membersihkan Missing Value dan Duplicated"
      ],
      "metadata": {
        "id": "VFzXY4BT1BPb"
      }
    },
    {
      "cell_type": "markdown",
      "source": [
        "### Memeriksa missing value dan duplicated"
      ],
      "metadata": {
        "id": "rqVzy7lP2gGz"
      }
    },
    {
      "cell_type": "code",
      "source": [
        "print(\"Jumlah Missing Value di setiap kolom:\")\n",
        "print(Bank_data.isnull().sum())"
      ],
      "metadata": {
        "colab": {
          "base_uri": "https://localhost:8080/"
        },
        "id": "cWsALcwxgwb9",
        "outputId": "99660073-58b6-4a20-d5ec-3a404d1c174e"
      },
      "execution_count": 479,
      "outputs": [
        {
          "output_type": "stream",
          "name": "stdout",
          "text": [
            "Jumlah Missing Value di setiap kolom:\n",
            "TransactionID              29\n",
            "AccountID                  21\n",
            "TransactionAmount          26\n",
            "TransactionDate            28\n",
            "TransactionType            30\n",
            "Location                   30\n",
            "DeviceID                   30\n",
            "IP Address                 20\n",
            "MerchantID                 23\n",
            "Channel                    27\n",
            "CustomerAge                18\n",
            "CustomerOccupation         23\n",
            "TransactionDuration        26\n",
            "LoginAttempts              21\n",
            "AccountBalance             27\n",
            "PreviousTransactionDate    24\n",
            "dtype: int64\n"
          ]
        }
      ]
    },
    {
      "cell_type": "markdown",
      "source": [
        "Dilihat disini semua kolom pada data memiliki missing value, dengan yang terbanyak adalah 30 dan paling dikit adalah 18"
      ],
      "metadata": {
        "id": "MoZ6cZXO2mlP"
      }
    },
    {
      "cell_type": "code",
      "source": [
        "print(\"Jumlah Duplikasi Data:\")\n",
        "print(Bank_data.duplicated().sum())"
      ],
      "metadata": {
        "colab": {
          "base_uri": "https://localhost:8080/"
        },
        "id": "1_l4EL2YuJI5",
        "outputId": "0ff7c4ec-4504-4524-fafe-05648116ce00"
      },
      "execution_count": 480,
      "outputs": [
        {
          "output_type": "stream",
          "name": "stdout",
          "text": [
            "Jumlah Duplikasi Data:\n",
            "21\n"
          ]
        }
      ]
    },
    {
      "cell_type": "markdown",
      "source": [
        "Data yang memiliki duplicated pada dataset hanya berjumlah 21"
      ],
      "metadata": {
        "id": "UkrZkIDh2xQM"
      }
    },
    {
      "cell_type": "markdown",
      "source": [
        "### Pembersihan Missing Value dan Duplicated"
      ],
      "metadata": {
        "id": "LOTxs8SG21rK"
      }
    },
    {
      "cell_type": "markdown",
      "source": [
        "pada kode dibawah ini ada beberapa metode yang digunakan untuk membersihkan data duplikat :\n",
        "* menggunakan .dropna() yaitu menghapus nilai missing value pada kolom tersebut\n",
        "* menggunakn .fillna().median(), .fillna().mode(), .fillna().max() yaitu mengganti nilai yang missing itu dengan nilai median setiap data, nilai modus setiap data dan nilai yang tertinggi setiap data\n",
        "\n",
        "untuk data yang memiliki type data numeric menggunakan median, untuk data yang bertipe catagorical menggunakan mode, dan untuk data yang bertipe datetime menggunakan max"
      ],
      "metadata": {
        "id": "kPXTM2z79Rs7"
      }
    },
    {
      "cell_type": "code",
      "source": [
        "# Colom tidak penting bisa dihapus dengan code .dropna\n",
        "Bank_data_cleaned = Bank_data.dropna(subset=['TransactionID', 'AccountID', 'DeviceID', 'IP Address', 'MerchantID'])\n",
        "\n",
        "# mengisi nilai median untuk data numerik\n",
        "Bank_data['TransactionAmount'].fillna(Bank_data['TransactionAmount'].median(), inplace=True)\n",
        "Bank_data['CustomerAge'].fillna(Bank_data['CustomerAge'].median(), inplace=True)\n",
        "Bank_data['TransactionDuration'].fillna(Bank_data['TransactionDuration'].median(), inplace=True)\n",
        "Bank_data['LoginAttempts'].fillna(Bank_data['LoginAttempts'].median(), inplace=True)\n",
        "Bank_data['AccountBalance'].fillna(Bank_data['AccountBalance'].median(), inplace=True)\n",
        "\n",
        "# mengisi nilai modus untuk data catagorical\n",
        "Bank_data['TransactionType'].fillna(Bank_data['TransactionType'].mode()[0], inplace=True)\n",
        "Bank_data['Location'].fillna(Bank_data['Location'].mode()[0], inplace=True)\n",
        "Bank_data['Channel'].fillna(Bank_data['Channel'].mode()[0], inplace=True)\n",
        "Bank_data['CustomerOccupation'].fillna(Bank_data['CustomerOccupation'].mode()[0], inplace=True)\n",
        "\n",
        "# Mengisi nilai max untuk tanggal (setelah dikonversi ke datetime)\n",
        "Bank_data['TransactionDate'].fillna(Bank_data['TransactionDate'].max(), inplace=True)\n",
        "Bank_data['PreviousTransactionDate'].fillna(Bank_data['PreviousTransactionDate'].max(), inplace=True)"
      ],
      "metadata": {
        "id": "DqoEkcNCytpz",
        "colab": {
          "base_uri": "https://localhost:8080/"
        },
        "outputId": "cead2b40-a9fa-4b90-f918-6237908f156b"
      },
      "execution_count": 481,
      "outputs": [
        {
          "output_type": "stream",
          "name": "stderr",
          "text": [
            "<ipython-input-481-4d7759f390a1>:5: FutureWarning: A value is trying to be set on a copy of a DataFrame or Series through chained assignment using an inplace method.\n",
            "The behavior will change in pandas 3.0. This inplace method will never work because the intermediate object on which we are setting values always behaves as a copy.\n",
            "\n",
            "For example, when doing 'df[col].method(value, inplace=True)', try using 'df.method({col: value}, inplace=True)' or df[col] = df[col].method(value) instead, to perform the operation inplace on the original object.\n",
            "\n",
            "\n",
            "  Bank_data['TransactionAmount'].fillna(Bank_data['TransactionAmount'].median(), inplace=True)\n",
            "<ipython-input-481-4d7759f390a1>:6: FutureWarning: A value is trying to be set on a copy of a DataFrame or Series through chained assignment using an inplace method.\n",
            "The behavior will change in pandas 3.0. This inplace method will never work because the intermediate object on which we are setting values always behaves as a copy.\n",
            "\n",
            "For example, when doing 'df[col].method(value, inplace=True)', try using 'df.method({col: value}, inplace=True)' or df[col] = df[col].method(value) instead, to perform the operation inplace on the original object.\n",
            "\n",
            "\n",
            "  Bank_data['CustomerAge'].fillna(Bank_data['CustomerAge'].median(), inplace=True)\n",
            "<ipython-input-481-4d7759f390a1>:7: FutureWarning: A value is trying to be set on a copy of a DataFrame or Series through chained assignment using an inplace method.\n",
            "The behavior will change in pandas 3.0. This inplace method will never work because the intermediate object on which we are setting values always behaves as a copy.\n",
            "\n",
            "For example, when doing 'df[col].method(value, inplace=True)', try using 'df.method({col: value}, inplace=True)' or df[col] = df[col].method(value) instead, to perform the operation inplace on the original object.\n",
            "\n",
            "\n",
            "  Bank_data['TransactionDuration'].fillna(Bank_data['TransactionDuration'].median(), inplace=True)\n",
            "<ipython-input-481-4d7759f390a1>:8: FutureWarning: A value is trying to be set on a copy of a DataFrame or Series through chained assignment using an inplace method.\n",
            "The behavior will change in pandas 3.0. This inplace method will never work because the intermediate object on which we are setting values always behaves as a copy.\n",
            "\n",
            "For example, when doing 'df[col].method(value, inplace=True)', try using 'df.method({col: value}, inplace=True)' or df[col] = df[col].method(value) instead, to perform the operation inplace on the original object.\n",
            "\n",
            "\n",
            "  Bank_data['LoginAttempts'].fillna(Bank_data['LoginAttempts'].median(), inplace=True)\n",
            "<ipython-input-481-4d7759f390a1>:9: FutureWarning: A value is trying to be set on a copy of a DataFrame or Series through chained assignment using an inplace method.\n",
            "The behavior will change in pandas 3.0. This inplace method will never work because the intermediate object on which we are setting values always behaves as a copy.\n",
            "\n",
            "For example, when doing 'df[col].method(value, inplace=True)', try using 'df.method({col: value}, inplace=True)' or df[col] = df[col].method(value) instead, to perform the operation inplace on the original object.\n",
            "\n",
            "\n",
            "  Bank_data['AccountBalance'].fillna(Bank_data['AccountBalance'].median(), inplace=True)\n",
            "<ipython-input-481-4d7759f390a1>:12: FutureWarning: A value is trying to be set on a copy of a DataFrame or Series through chained assignment using an inplace method.\n",
            "The behavior will change in pandas 3.0. This inplace method will never work because the intermediate object on which we are setting values always behaves as a copy.\n",
            "\n",
            "For example, when doing 'df[col].method(value, inplace=True)', try using 'df.method({col: value}, inplace=True)' or df[col] = df[col].method(value) instead, to perform the operation inplace on the original object.\n",
            "\n",
            "\n",
            "  Bank_data['TransactionType'].fillna(Bank_data['TransactionType'].mode()[0], inplace=True)\n",
            "<ipython-input-481-4d7759f390a1>:13: FutureWarning: A value is trying to be set on a copy of a DataFrame or Series through chained assignment using an inplace method.\n",
            "The behavior will change in pandas 3.0. This inplace method will never work because the intermediate object on which we are setting values always behaves as a copy.\n",
            "\n",
            "For example, when doing 'df[col].method(value, inplace=True)', try using 'df.method({col: value}, inplace=True)' or df[col] = df[col].method(value) instead, to perform the operation inplace on the original object.\n",
            "\n",
            "\n",
            "  Bank_data['Location'].fillna(Bank_data['Location'].mode()[0], inplace=True)\n",
            "<ipython-input-481-4d7759f390a1>:14: FutureWarning: A value is trying to be set on a copy of a DataFrame or Series through chained assignment using an inplace method.\n",
            "The behavior will change in pandas 3.0. This inplace method will never work because the intermediate object on which we are setting values always behaves as a copy.\n",
            "\n",
            "For example, when doing 'df[col].method(value, inplace=True)', try using 'df.method({col: value}, inplace=True)' or df[col] = df[col].method(value) instead, to perform the operation inplace on the original object.\n",
            "\n",
            "\n",
            "  Bank_data['Channel'].fillna(Bank_data['Channel'].mode()[0], inplace=True)\n",
            "<ipython-input-481-4d7759f390a1>:15: FutureWarning: A value is trying to be set on a copy of a DataFrame or Series through chained assignment using an inplace method.\n",
            "The behavior will change in pandas 3.0. This inplace method will never work because the intermediate object on which we are setting values always behaves as a copy.\n",
            "\n",
            "For example, when doing 'df[col].method(value, inplace=True)', try using 'df.method({col: value}, inplace=True)' or df[col] = df[col].method(value) instead, to perform the operation inplace on the original object.\n",
            "\n",
            "\n",
            "  Bank_data['CustomerOccupation'].fillna(Bank_data['CustomerOccupation'].mode()[0], inplace=True)\n",
            "<ipython-input-481-4d7759f390a1>:18: FutureWarning: A value is trying to be set on a copy of a DataFrame or Series through chained assignment using an inplace method.\n",
            "The behavior will change in pandas 3.0. This inplace method will never work because the intermediate object on which we are setting values always behaves as a copy.\n",
            "\n",
            "For example, when doing 'df[col].method(value, inplace=True)', try using 'df.method({col: value}, inplace=True)' or df[col] = df[col].method(value) instead, to perform the operation inplace on the original object.\n",
            "\n",
            "\n",
            "  Bank_data['TransactionDate'].fillna(Bank_data['TransactionDate'].max(), inplace=True)\n",
            "<ipython-input-481-4d7759f390a1>:19: FutureWarning: A value is trying to be set on a copy of a DataFrame or Series through chained assignment using an inplace method.\n",
            "The behavior will change in pandas 3.0. This inplace method will never work because the intermediate object on which we are setting values always behaves as a copy.\n",
            "\n",
            "For example, when doing 'df[col].method(value, inplace=True)', try using 'df.method({col: value}, inplace=True)' or df[col] = df[col].method(value) instead, to perform the operation inplace on the original object.\n",
            "\n",
            "\n",
            "  Bank_data['PreviousTransactionDate'].fillna(Bank_data['PreviousTransactionDate'].max(), inplace=True)\n"
          ]
        }
      ]
    },
    {
      "cell_type": "markdown",
      "source": [
        "Data yang duplicated pada dataset lumayan kecil yaitu berjumlah 21, bisa menggunakan cara .drop_duplicates() dalam mengatasi data yang duplicated dimana akan menghapus nilai yang duplicated dalam dataset"
      ],
      "metadata": {
        "id": "cqAVYKuj-H3s"
      }
    },
    {
      "cell_type": "code",
      "source": [
        "Bank_data_cleaned_duplicated = Bank_data.drop_duplicates()"
      ],
      "metadata": {
        "id": "6DDbsf746Rsg"
      },
      "execution_count": 482,
      "outputs": []
    },
    {
      "cell_type": "markdown",
      "source": [
        "### Kondisi data setelah pembersihan missing value dan duplicated"
      ],
      "metadata": {
        "id": "D87R71RY-boU"
      }
    },
    {
      "cell_type": "code",
      "source": [
        "print(\"Jumlah Missing Value di setiap kolom setelah pembersihan:\")\n",
        "print(Bank_data_cleaned.isnull().sum())\n",
        "print(\"\\nJumlah Duplikasi Data setelah pembersihan:\")\n",
        "print(Bank_data_cleaned_duplicated.duplicated().sum())"
      ],
      "metadata": {
        "colab": {
          "base_uri": "https://localhost:8080/"
        },
        "id": "J9aj7qyh6v-c",
        "outputId": "2f72861f-393c-4b5d-a31e-19a56c8727d9"
      },
      "execution_count": 483,
      "outputs": [
        {
          "output_type": "stream",
          "name": "stdout",
          "text": [
            "Jumlah Missing Value di setiap kolom setelah pembersihan:\n",
            "TransactionID               0\n",
            "AccountID                   0\n",
            "TransactionAmount          24\n",
            "TransactionDate            27\n",
            "TransactionType            30\n",
            "Location                   30\n",
            "DeviceID                    0\n",
            "IP Address                  0\n",
            "MerchantID                  0\n",
            "Channel                    26\n",
            "CustomerAge                18\n",
            "CustomerOccupation         23\n",
            "TransactionDuration        24\n",
            "LoginAttempts              20\n",
            "AccountBalance             26\n",
            "PreviousTransactionDate    22\n",
            "dtype: int64\n",
            "\n",
            "Jumlah Duplikasi Data setelah pembersihan:\n",
            "0\n"
          ]
        }
      ]
    },
    {
      "cell_type": "markdown",
      "source": [
        "## Menghapus kolom dalam dataset yang tidak berguna"
      ],
      "metadata": {
        "id": "Cnyl7iXW-v9V"
      }
    },
    {
      "cell_type": "markdown",
      "source": [
        "Dalam tahapan ini akan menghapus kolom yang tidak berguna dalam pengembangan model nantinya kolom tersebut diantara lain adalah\n",
        "* TransactionID\n",
        "* AccountID\n",
        "* DeviceID  \n",
        "* IPAddress\n",
        "* MerchantID"
      ],
      "metadata": {
        "id": "sMGm6-Fk-0gG"
      }
    },
    {
      "cell_type": "code",
      "source": [
        "drop_columns = ['TransactionID', 'AccountID', 'DeviceID', 'IP Address', 'MerchantID']\n",
        "Bank_data = Bank_data.drop(columns=drop_columns, errors='ignore')\n"
      ],
      "metadata": {
        "id": "TCEo5a639JZP"
      },
      "execution_count": 484,
      "outputs": []
    },
    {
      "cell_type": "markdown",
      "source": [
        "Kondisi setelah melakuakn drop kolom"
      ],
      "metadata": {
        "id": "HVMd510b_UTK"
      }
    },
    {
      "cell_type": "code",
      "source": [
        "Bank_data.info()"
      ],
      "metadata": {
        "colab": {
          "base_uri": "https://localhost:8080/"
        },
        "id": "aDN7Iml2_XEp",
        "outputId": "b3946d77-b042-4c4d-882e-b59cbdffd107"
      },
      "execution_count": 485,
      "outputs": [
        {
          "output_type": "stream",
          "name": "stdout",
          "text": [
            "<class 'pandas.core.frame.DataFrame'>\n",
            "RangeIndex: 2537 entries, 0 to 2536\n",
            "Data columns (total 11 columns):\n",
            " #   Column                   Non-Null Count  Dtype         \n",
            "---  ------                   --------------  -----         \n",
            " 0   TransactionAmount        2537 non-null   float64       \n",
            " 1   TransactionDate          2537 non-null   datetime64[ns]\n",
            " 2   TransactionType          2537 non-null   object        \n",
            " 3   Location                 2537 non-null   object        \n",
            " 4   Channel                  2537 non-null   object        \n",
            " 5   CustomerAge              2537 non-null   float64       \n",
            " 6   CustomerOccupation       2537 non-null   object        \n",
            " 7   TransactionDuration      2537 non-null   float64       \n",
            " 8   LoginAttempts            2537 non-null   float64       \n",
            " 9   AccountBalance           2537 non-null   float64       \n",
            " 10  PreviousTransactionDate  2537 non-null   datetime64[ns]\n",
            "dtypes: datetime64[ns](2), float64(5), object(4)\n",
            "memory usage: 218.2+ KB\n"
          ]
        }
      ]
    },
    {
      "cell_type": "markdown",
      "source": [
        "Terlihat sudah pada data yang baru dataset hanya memiliki 10 kolom, dengan awal memiliki 16 kolom"
      ],
      "metadata": {
        "id": "sgi7SU4x_ogD"
      }
    },
    {
      "cell_type": "markdown",
      "source": [
        "## Pembersihan Outlier Data"
      ],
      "metadata": {
        "id": "vR4pio7aFEsU"
      }
    },
    {
      "cell_type": "markdown",
      "source": [
        "Pada tahapan ini akan melakukan pembersihan data yang diluar outlier, atau data yang memiliki nilai ketinggian atau kekecilan. bisa dibilang data yang anomali"
      ],
      "metadata": {
        "id": "_i41nE-IKGvi"
      }
    },
    {
      "cell_type": "code",
      "source": [
        "plt.figure(figsize=(8, 5))\n",
        "sns.boxplot(x=Bank_data['TransactionAmount'])\n",
        "plt.title('Boxplot TransactionAmount')\n",
        "plt.show()"
      ],
      "metadata": {
        "colab": {
          "base_uri": "https://localhost:8080/",
          "height": 487
        },
        "id": "opBKwSctD45K",
        "outputId": "ad047a42-1c3a-498c-e165-8f528db81360"
      },
      "execution_count": 486,
      "outputs": [
        {
          "output_type": "display_data",
          "data": {
            "text/plain": [
              "<Figure size 800x500 with 1 Axes>"
            ],
            "image/png": "[encoded data removed]"
          },
          "metadata": {}
        }
      ]
    },
    {
      "cell_type": "markdown",
      "source": [
        "Pada gambar tersebut terlihat ada banyak data yang keluar dari outlier, untuk itukita bisa mengatasinya dengan cara IQR (Interquartile Range) seperti kode dibawah ini"
      ],
      "metadata": {
        "id": "X3vnhctVMGtN"
      }
    },
    {
      "cell_type": "code",
      "source": [
        "Q1 = Bank_data['TransactionAmount'].quantile(0.25)\n",
        "Q3 = Bank_data['TransactionAmount'].quantile(0.75)\n",
        "IQR = Q3 - Q1\n",
        "Bank_data_outlier = Bank_data[~((Bank_data['TransactionAmount'] < (Q1 - 1.5 * IQR)) | (Bank_data['TransactionAmount'] > (Q3 + 1.5 * IQR)))]\n"
      ],
      "metadata": {
        "id": "yGfyCcmaFM7R"
      },
      "execution_count": 487,
      "outputs": []
    },
    {
      "cell_type": "code",
      "source": [
        "plt.figure(figsize=(8, 5))\n",
        "sns.boxplot(x=Bank_data_outlier['TransactionAmount'])\n",
        "plt.title('Boxplot TransactionAmount')\n",
        "plt.show()"
      ],
      "metadata": {
        "colab": {
          "base_uri": "https://localhost:8080/",
          "height": 487
        },
        "id": "f9mSR7WOFUhQ",
        "outputId": "97257cb2-bd6d-4cea-afb9-eed0637764e1"
      },
      "execution_count": 488,
      "outputs": [
        {
          "output_type": "display_data",
          "data": {
            "text/plain": [
              "<Figure size 800x500 with 1 Axes>"
            ],
            "image/png": "[encoded data removed]"
          },
          "metadata": {}
        }
      ]
    },
    {
      "cell_type": "markdown",
      "source": [
        "Setelah melakukan IQR (Interquartile Range) nilai pada outlier masih ada namun tidak terlalu banyak, agak rincu untuk menghapus data tersebut karena ini ada pada kolom Transaction yang dimana tidak jatuh kemungkinan ada yang melakukan transaksi lebih dari itu\n"
      ],
      "metadata": {
        "id": "DpcxCIT4MFd4"
      }
    },
    {
      "cell_type": "markdown",
      "source": [
        "# Feature Encoding"
      ],
      "metadata": {
        "id": "XSsUNwuDBqel"
      }
    },
    {
      "cell_type": "markdown",
      "source": [
        "Pada tahap ini adalah mengubah colim katagorical menjadi numerik dengan cara one-hot encoding yaitu mengubah setiap kategori menjadi kolom biner terpisah dengan nilai 0 atau 1 (bisa juga True atau False)."
      ],
      "metadata": {
        "id": "GVNMmGMsPu2H"
      }
    },
    {
      "cell_type": "code",
      "source": [
        "# Encoding one-hot untuk fitur kategorikal\n",
        "categorical_columns = ['TransactionType', 'Channel', 'CustomerOccupation', 'Location']\n",
        "Bank_data = pd.get_dummies(Bank_data, columns=categorical_columns, drop_first=True, dtype=np.uint8)"
      ],
      "metadata": {
        "id": "jcFZ2BGsD5Y3"
      },
      "execution_count": 489,
      "outputs": []
    },
    {
      "cell_type": "code",
      "source": [
        "Bank_data.head()"
      ],
      "metadata": {
        "colab": {
          "base_uri": "https://localhost:8080/",
          "height": 359
        },
        "id": "6F38b_IQP6vG",
        "outputId": "d6918360-892d-4591-852c-1dea45bdbb4a"
      },
      "execution_count": 490,
      "outputs": [
        {
          "output_type": "execute_result",
          "data": {
            "text/plain": [
              "   TransactionAmount     TransactionDate  CustomerAge  TransactionDuration  \\\n",
              "0              14.09 2023-04-11 16:29:14         70.0                 81.0   \n",
              "1             376.24 2023-06-27 16:44:19         68.0                141.0   \n",
              "2             126.29 2023-07-10 18:16:08         19.0                 56.0   \n",
              "3             184.50 2023-05-05 16:32:11         26.0                 25.0   \n",
              "4              13.45 2023-10-16 17:51:24         45.0                198.0   \n",
              "\n",
              "   LoginAttempts  AccountBalance PreviousTransactionDate  \\\n",
              "0            1.0         5112.21     2024-11-04 08:08:08   \n",
              "1            1.0        13758.91     2024-11-04 08:09:35   \n",
              "2            1.0         1122.35     2024-11-04 08:07:04   \n",
              "3            1.0         8569.06     2024-11-04 08:09:06   \n",
              "4            1.0         7429.40     2024-11-04 08:06:39   \n",
              "\n",
              "   TransactionType_Debit  Channel_Branch  Channel_Online  ...  \\\n",
              "0                      1               0               0  ...   \n",
              "1                      1               0               0  ...   \n",
              "2                      1               0               1  ...   \n",
              "3                      1               0               1  ...   \n",
              "4                      0               0               1  ...   \n",
              "\n",
              "   Location_Raleigh  Location_Sacramento  Location_San Antonio  \\\n",
              "0                 0                    0                     0   \n",
              "1                 0                    0                     0   \n",
              "2                 0                    0                     0   \n",
              "3                 1                    0                     0   \n",
              "4                 0                    0                     0   \n",
              "\n",
              "   Location_San Diego  Location_San Francisco  Location_San Jose  \\\n",
              "0                   1                       0                  0   \n",
              "1                   0                       0                  0   \n",
              "2                   0                       0                  0   \n",
              "3                   0                       0                  0   \n",
              "4                   0                       0                  0   \n",
              "\n",
              "   Location_Seattle  Location_Tucson  Location_Virginia Beach  \\\n",
              "0                 0                0                        0   \n",
              "1                 0                0                        0   \n",
              "2                 0                0                        0   \n",
              "3                 0                0                        0   \n",
              "4                 0                0                        0   \n",
              "\n",
              "   Location_Washington  \n",
              "0                    0  \n",
              "1                    0  \n",
              "2                    0  \n",
              "3                    0  \n",
              "4                    0  \n",
              "\n",
              "[5 rows x 55 columns]"
            ],
            "text/html": [
              "\n",
              "  <div id=\"df-9aa599c6-a898-4fec-889a-340935f3e760\" class=\"colab-df-container\">\n",
              "    <div>\n",
              "<style scoped>\n",
              "    .dataframe tbody tr th:only-of-type {\n",
              "        vertical-align: middle;\n",
              "    }\n",
              "\n",
              "    .dataframe tbody tr th {\n",
              "        vertical-align: top;\n",
              "    }\n",
              "\n",
              "    .dataframe thead th {\n",
              "        text-align: right;\n",
              "    }\n",
              "</style>\n",
              "<table border=\"1\" class=\"dataframe\">\n",
              "  <thead>\n",
              "    <tr style=\"text-align: right;\">\n",
              "      <th></th>\n",
              "      <th>TransactionAmount</th>\n",
              "      <th>TransactionDate</th>\n",
              "      <th>CustomerAge</th>\n",
              "      <th>TransactionDuration</th>\n",
              "      <th>LoginAttempts</th>\n",
              "      <th>AccountBalance</th>\n",
              "      <th>PreviousTransactionDate</th>\n",
              "      <th>TransactionType_Debit</th>\n",
              "      <th>Channel_Branch</th>\n",
              "      <th>Channel_Online</th>\n",
              "      <th>...</th>\n",
              "      <th>Location_Raleigh</th>\n",
              "      <th>Location_Sacramento</th>\n",
              "      <th>Location_San Antonio</th>\n",
              "      <th>Location_San Diego</th>\n",
              "      <th>Location_San Francisco</th>\n",
              "      <th>Location_San Jose</th>\n",
              "      <th>Location_Seattle</th>\n",
              "      <th>Location_Tucson</th>\n",
              "      <th>Location_Virginia Beach</th>\n",
              "      <th>Location_Washington</th>\n",
              "    </tr>\n",
              "  </thead>\n",
              "  <tbody>\n",
              "    <tr>\n",
              "      <th>0</th>\n",
              "      <td>14.09</td>\n",
              "      <td>2023-04-11 16:29:14</td>\n",
              "      <td>70.0</td>\n",
              "      <td>81.0</td>\n",
              "      <td>1.0</td>\n",
              "      <td>5112.21</td>\n",
              "      <td>2024-11-04 08:08:08</td>\n",
              "      <td>1</td>\n",
              "      <td>0</td>\n",
              "      <td>0</td>\n",
              "      <td>...</td>\n",
              "      <td>0</td>\n",
              "      <td>0</td>\n",
              "      <td>0</td>\n",
              "      <td>1</td>\n",
              "      <td>0</td>\n",
              "      <td>0</td>\n",
              "      <td>0</td>\n",
              "      <td>0</td>\n",
              "      <td>0</td>\n",
              "      <td>0</td>\n",
              "    </tr>\n",
              "    <tr>\n",
              "      <th>1</th>\n",
              "      <td>376.24</td>\n",
              "      <td>2023-06-27 16:44:19</td>\n",
              "      <td>68.0</td>\n",
              "      <td>141.0</td>\n",
              "      <td>1.0</td>\n",
              "      <td>13758.91</td>\n",
              "      <td>2024-11-04 08:09:35</td>\n",
              "      <td>1</td>\n",
              "      <td>0</td>\n",
              "      <td>0</td>\n",
              "      <td>...</td>\n",
              "      <td>0</td>\n",
              "      <td>0</td>\n",
              "      <td>0</td>\n",
              "      <td>0</td>\n",
              "      <td>0</td>\n",
              "      <td>0</td>\n",
              "      <td>0</td>\n",
              "      <td>0</td>\n",
              "      <td>0</td>\n",
              "      <td>0</td>\n",
              "    </tr>\n",
              "    <tr>\n",
              "      <th>2</th>\n",
              "      <td>126.29</td>\n",
              "      <td>2023-07-10 18:16:08</td>\n",
              "      <td>19.0</td>\n",
              "      <td>56.0</td>\n",
              "      <td>1.0</td>\n",
              "      <td>1122.35</td>\n",
              "      <td>2024-11-04 08:07:04</td>\n",
              "      <td>1</td>\n",
              "      <td>0</td>\n",
              "      <td>1</td>\n",
              "      <td>...</td>\n",
              "      <td>0</td>\n",
              "      <td>0</td>\n",
              "      <td>0</td>\n",
              "      <td>0</td>\n",
              "      <td>0</td>\n",
              "      <td>0</td>\n",
              "      <td>0</td>\n",
              "      <td>0</td>\n",
              "      <td>0</td>\n",
              "      <td>0</td>\n",
              "    </tr>\n",
              "    <tr>\n",
              "      <th>3</th>\n",
              "      <td>184.50</td>\n",
              "      <td>2023-05-05 16:32:11</td>\n",
              "      <td>26.0</td>\n",
              "      <td>25.0</td>\n",
              "      <td>1.0</td>\n",
              "      <td>8569.06</td>\n",
              "      <td>2024-11-04 08:09:06</td>\n",
              "      <td>1</td>\n",
              "      <td>0</td>\n",
              "      <td>1</td>\n",
              "      <td>...</td>\n",
              "      <td>1</td>\n",
              "      <td>0</td>\n",
              "      <td>0</td>\n",
              "      <td>0</td>\n",
              "      <td>0</td>\n",
              "      <td>0</td>\n",
              "      <td>0</td>\n",
              "      <td>0</td>\n",
              "      <td>0</td>\n",
              "      <td>0</td>\n",
              "    </tr>\n",
              "    <tr>\n",
              "      <th>4</th>\n",
              "      <td>13.45</td>\n",
              "      <td>2023-10-16 17:51:24</td>\n",
              "      <td>45.0</td>\n",
              "      <td>198.0</td>\n",
              "      <td>1.0</td>\n",
              "      <td>7429.40</td>\n",
              "      <td>2024-11-04 08:06:39</td>\n",
              "      <td>0</td>\n",
              "      <td>0</td>\n",
              "      <td>1</td>\n",
              "      <td>...</td>\n",
              "      <td>0</td>\n",
              "      <td>0</td>\n",
              "      <td>0</td>\n",
              "      <td>0</td>\n",
              "      <td>0</td>\n",
              "      <td>0</td>\n",
              "      <td>0</td>\n",
              "      <td>0</td>\n",
              "      <td>0</td>\n",
              "      <td>0</td>\n",
              "    </tr>\n",
              "  </tbody>\n",
              "</table>\n",
              "<p>5 rows × 55 columns</p>\n",
              "</div>\n",
              "    <div class=\"colab-df-buttons\">\n",
              "\n",
              "  <div class=\"colab-df-container\">\n",
              "    <button class=\"colab-df-convert\" onclick=\"convertToInteractive('df-9aa599c6-a898-4fec-889a-340935f3e760')\"\n",
              "            title=\"Convert this dataframe to an interactive table.\"\n",
              "            style=\"display:none;\">\n",
              "\n",
              "  <svg xmlns=\"http://www.w3.org/2000/svg\" height=\"24px\" viewBox=\"0 -960 960 960\">\n",
              "    <path d=\"M120-120v-720h720v720H120Zm60-500h600v-160H180v160Zm220 220h160v-160H400v160Zm0 220h160v-160H400v160ZM180-400h160v-160H180v160Zm440 0h160v-160H620v160ZM180-180h160v-160H180v160Zm440 0h160v-160H620v160Z\"/>\n",
              "  </svg>\n",
              "    </button>\n",
              "\n",
              "  <style>\n",
              "    .colab-df-container {\n",
              "      display:flex;\n",
              "      gap: 12px;\n",
              "    }\n",
              "\n",
              "    .colab-df-convert {\n",
              "      background-color: #E8F0FE;\n",
              "      border: none;\n",
              "      border-radius: 50%;\n",
              "      cursor: pointer;\n",
              "      display: none;\n",
              "      fill: #1967D2;\n",
              "      height: 32px;\n",
              "      padding: 0 0 0 0;\n",
              "      width: 32px;\n",
              "    }\n",
              "\n",
              "    .colab-df-convert:hover {\n",
              "      background-color: #E2EBFA;\n",
              "      box-shadow: 0px 1px 2px rgba(60, 64, 67, 0.3), 0px 1px 3px 1px rgba(60, 64, 67, 0.15);\n",
              "      fill: #174EA6;\n",
              "    }\n",
              "\n",
              "    .colab-df-buttons div {\n",
              "      margin-bottom: 4px;\n",
              "    }\n",
              "\n",
              "    [theme=dark] .colab-df-convert {\n",
              "      background-color: #3B4455;\n",
              "      fill: #D2E3FC;\n",
              "    }\n",
              "\n",
              "    [theme=dark] .colab-df-convert:hover {\n",
              "      background-color: #434B5C;\n",
              "      box-shadow: 0px 1px 3px 1px rgba(0, 0, 0, 0.15);\n",
              "      filter: drop-shadow(0px 1px 2px rgba(0, 0, 0, 0.3));\n",
              "      fill: #FFFFFF;\n",
              "    }\n",
              "  </style>\n",
              "\n",
              "    <script>\n",
              "      const buttonEl =\n",
              "        document.querySelector('#df-9aa599c6-a898-4fec-889a-340935f3e760 button.colab-df-convert');\n",
              "      buttonEl.style.display =\n",
              "        google.colab.kernel.accessAllowed ? 'block' : 'none';\n",
              "\n",
              "      async function convertToInteractive(key) {\n",
              "        const element = document.querySelector('#df-9aa599c6-a898-4fec-889a-340935f3e760');\n",
              "        const dataTable =\n",
              "          await google.colab.kernel.invokeFunction('convertToInteractive',\n",
              "                                                    [key], {});\n",
              "        if (!dataTable) return;\n",
              "\n",
              "        const docLinkHtml = 'Like what you see? Visit the ' +\n",
              "          '<a target=\"_blank\" href=https://colab.research.google.com/notebooks/data_table.ipynb>data table notebook</a>'\n",
              "          + ' to learn more about interactive tables.';\n",
              "        element.innerHTML = '';\n",
              "        dataTable['output_type'] = 'display_data';\n",
              "        await google.colab.output.renderOutput(dataTable, element);\n",
              "        const docLink = document.createElement('div');\n",
              "        docLink.innerHTML = docLinkHtml;\n",
              "        element.appendChild(docLink);\n",
              "      }\n",
              "    </script>\n",
              "  </div>\n",
              "\n",
              "\n",
              "    <div id=\"df-30cadda3-817c-427a-b343-35da52eebc3c\">\n",
              "      <button class=\"colab-df-quickchart\" onclick=\"quickchart('df-30cadda3-817c-427a-b343-35da52eebc3c')\"\n",
              "                title=\"Suggest charts\"\n",
              "                style=\"display:none;\">\n",
              "\n",
              "<svg xmlns=\"http://www.w3.org/2000/svg\" height=\"24px\"viewBox=\"0 0 24 24\"\n",
              "     width=\"24px\">\n",
              "    <g>\n",
              "        <path d=\"M19 3H5c-1.1 0-2 .9-2 2v14c0 1.1.9 2 2 2h14c1.1 0 2-.9 2-2V5c0-1.1-.9-2-2-2zM9 17H7v-7h2v7zm4 0h-2V7h2v10zm4 0h-2v-4h2v4z\"/>\n",
              "    </g>\n",
              "</svg>\n",
              "      </button>\n",
              "\n",
              "<style>\n",
              "  .colab-df-quickchart {\n",
              "      --bg-color: #E8F0FE;\n",
              "      --fill-color: #1967D2;\n",
              "      --hover-bg-color: #E2EBFA;\n",
              "      --hover-fill-color: #174EA6;\n",
              "      --disabled-fill-color: #AAA;\n",
              "      --disabled-bg-color: #DDD;\n",
              "  }\n",
              "\n",
              "  [theme=dark] .colab-df-quickchart {\n",
              "      --bg-color: #3B4455;\n",
              "      --fill-color: #D2E3FC;\n",
              "      --hover-bg-color: #434B5C;\n",
              "      --hover-fill-color: #FFFFFF;\n",
              "      --disabled-bg-color: #3B4455;\n",
              "      --disabled-fill-color: #666;\n",
              "  }\n",
              "\n",
              "  .colab-df-quickchart {\n",
              "    background-color: var(--bg-color);\n",
              "    border: none;\n",
              "    border-radius: 50%;\n",
              "    cursor: pointer;\n",
              "    display: none;\n",
              "    fill: var(--fill-color);\n",
              "    height: 32px;\n",
              "    padding: 0;\n",
              "    width: 32px;\n",
              "  }\n",
              "\n",
              "  .colab-df-quickchart:hover {\n",
              "    background-color: var(--hover-bg-color);\n",
              "    box-shadow: 0 1px 2px rgba(60, 64, 67, 0.3), 0 1px 3px 1px rgba(60, 64, 67, 0.15);\n",
              "    fill: var(--button-hover-fill-color);\n",
              "  }\n",
              "\n",
              "  .colab-df-quickchart-complete:disabled,\n",
              "  .colab-df-quickchart-complete:disabled:hover {\n",
              "    background-color: var(--disabled-bg-color);\n",
              "    fill: var(--disabled-fill-color);\n",
              "    box-shadow: none;\n",
              "  }\n",
              "\n",
              "  .colab-df-spinner {\n",
              "    border: 2px solid var(--fill-color);\n",
              "    border-color: transparent;\n",
              "    border-bottom-color: var(--fill-color);\n",
              "    animation:\n",
              "      spin 1s steps(1) infinite;\n",
              "  }\n",
              "\n",
              "  @keyframes spin {\n",
              "    0% {\n",
              "      border-color: transparent;\n",
              "      border-bottom-color: var(--fill-color);\n",
              "      border-left-color: var(--fill-color);\n",
              "    }\n",
              "    20% {\n",
              "      border-color: transparent;\n",
              "      border-left-color: var(--fill-color);\n",
              "      border-top-color: var(--fill-color);\n",
              "    }\n",
              "    30% {\n",
              "      border-color: transparent;\n",
              "      border-left-color: var(--fill-color);\n",
              "      border-top-color: var(--fill-color);\n",
              "      border-right-color: var(--fill-color);\n",
              "    }\n",
              "    40% {\n",
              "      border-color: transparent;\n",
              "      border-right-color: var(--fill-color);\n",
              "      border-top-color: var(--fill-color);\n",
              "    }\n",
              "    60% {\n",
              "      border-color: transparent;\n",
              "      border-right-color: var(--fill-color);\n",
              "    }\n",
              "    80% {\n",
              "      border-color: transparent;\n",
              "      border-right-color: var(--fill-color);\n",
              "      border-bottom-color: var(--fill-color);\n",
              "    }\n",
              "    90% {\n",
              "      border-color: transparent;\n",
              "      border-bottom-color: var(--fill-color);\n",
              "    }\n",
              "  }\n",
              "</style>\n",
              "\n",
              "      <script>\n",
              "        async function quickchart(key) {\n",
              "          const quickchartButtonEl =\n",
              "            document.querySelector('#' + key + ' button');\n",
              "          quickchartButtonEl.disabled = true;  // To prevent multiple clicks.\n",
              "          quickchartButtonEl.classList.add('colab-df-spinner');\n",
              "          try {\n",
              "            const charts = await google.colab.kernel.invokeFunction(\n",
              "                'suggestCharts', [key], {});\n",
              "          } catch (error) {\n",
              "            console.error('Error during call to suggestCharts:', error);\n",
              "          }\n",
              "          quickchartButtonEl.classList.remove('colab-df-spinner');\n",
              "          quickchartButtonEl.classList.add('colab-df-quickchart-complete');\n",
              "        }\n",
              "        (() => {\n",
              "          let quickchartButtonEl =\n",
              "            document.querySelector('#df-30cadda3-817c-427a-b343-35da52eebc3c button');\n",
              "          quickchartButtonEl.style.display =\n",
              "            google.colab.kernel.accessAllowed ? 'block' : 'none';\n",
              "        })();\n",
              "      </script>\n",
              "    </div>\n",
              "\n",
              "    </div>\n",
              "  </div>\n"
            ],
            "application/vnd.google.colaboratory.intrinsic+json": {
              "type": "dataframe",
              "variable_name": "Bank_data"
            }
          },
          "metadata": {},
          "execution_count": 490
        }
      ]
    },
    {
      "cell_type": "markdown",
      "source": [
        "## Feature Scaling"
      ],
      "metadata": {
        "id": "kLsd91a5BbWq"
      }
    },
    {
      "cell_type": "code",
      "source": [
        "# Tentukan kolom numerik\n",
        "numerical_columns = Bank_data.select_dtypes(include=['int64', 'float64']).columns\n",
        "\n",
        "Bank_data_numerical = Bank_data[numerical_columns]\n",
        "\n",
        "# Min-Max Scaling\n",
        "min_max_scaler = MinMaxScaler()\n",
        "scaled_min_max = min_max_scaler.fit_transform(Bank_data_numerical)\n",
        "print(\"Min-Max Scaling:\\n\", scaled_min_max)\n",
        "\n",
        "# Standardization\n",
        "standard_scaler = StandardScaler()\n",
        "scaled_standard = standard_scaler.fit_transform(Bank_data_numerical)\n",
        "print(\"\\nStandardization:\\n\", scaled_standard)"
      ],
      "metadata": {
        "colab": {
          "base_uri": "https://localhost:8080/"
        },
        "id": "C4X40yha_Z4a",
        "outputId": "048bc2a2-3e43-4a05-fe68-fe98d23e56d4"
      },
      "execution_count": 491,
      "outputs": [
        {
          "output_type": "stream",
          "name": "stdout",
          "text": [
            "Min-Max Scaling:\n",
            " [[0.00720744 0.83870968 0.24482759 0.         0.33683186]\n",
            " [0.19594028 0.80645161 0.45172414 0.         0.91805463]\n",
            " [0.06567996 0.01612903 0.15862069 0.         0.06863735]\n",
            " ...\n",
            " [0.25684655 0.56451613 0.77931034 0.         0.49283244]\n",
            " [0.10337442 0.14516129 0.25517241 0.         0.07359274]\n",
            " [0.00376788 0.75806452 0.91724138 0.         0.23751306]]\n",
            "\n",
            "Standardization:\n",
            " [[-9.72080527e-01  1.42479563e+00 -5.50102223e-01 -2.03745432e-01\n",
            "   7.24570953e-04]\n",
            " [ 2.73272455e-01  1.31224931e+00  3.10623476e-01 -2.03745432e-01\n",
            "   2.23120931e+00]\n",
            " [-5.86249781e-01 -1.44513559e+00 -9.08737931e-01 -2.03745432e-01\n",
            "  -1.02849141e+00]\n",
            " ...\n",
            " [ 6.75162287e-01  4.68151888e-01  1.67343917e+00 -2.03745432e-01\n",
            "   5.99388150e-01]\n",
            " [-3.37523063e-01 -9.94950303e-01 -5.07065938e-01 -2.03745432e-01\n",
            "  -1.00947475e+00]\n",
            " [-9.94776453e-01  1.14342982e+00  2.24725630e+00 -2.03745432e-01\n",
            "  -3.80418573e-01]]\n"
          ]
        }
      ]
    },
    {
      "cell_type": "markdown",
      "source": [
        "# Melakukan Binning pada colom CustomerAge dan TransactionAmount"
      ],
      "metadata": {
        "id": "3ynklUm0CWnQ"
      }
    },
    {
      "cell_type": "markdown",
      "source": [
        "## CostumerAge"
      ],
      "metadata": {
        "id": "nfOu_yT3qUz5"
      }
    },
    {
      "cell_type": "code",
      "source": [
        "# Mengelompokkan usia pelanggan ke dalam kategori dan menghitung jumlah pelanggan di setiap kategori\n",
        "umur18_25 = Bank_data.CustomerAge[(Bank_data.CustomerAge >= 18) & (Bank_data.CustomerAge <= 25)]\n",
        "umur26_35 = Bank_data.CustomerAge[(Bank_data.CustomerAge >= 26) & (Bank_data.CustomerAge <= 35)]\n",
        "umur36_45 = Bank_data.CustomerAge[(Bank_data.CustomerAge >= 36) & (Bank_data.CustomerAge <= 45)]\n",
        "umur46_55 = Bank_data.CustomerAge[(Bank_data.CustomerAge >= 46) & (Bank_data.CustomerAge <= 55)]\n",
        "umur55_keatas = Bank_data.CustomerAge[Bank_data.CustomerAge >= 56]\n",
        "\n",
        "# Menyusun data untuk plotting\n",
        "x = [\"18-25\", \"26-35\", \"36-45\", \"46-55\", \"55+\"]\n",
        "y = [len(umur18_25.values), len(umur26_35.values), len(umur36_45.values), len(umur46_55.values), len(umur55_keatas.values)]\n",
        "\n",
        "# Membuat bar chart untuk distribusi usia pelanggan\n",
        "plt.figure(figsize=(15, 6))\n",
        "plt.bar(x, y, color=['red', 'green', 'blue', 'cyan', 'yellow'])\n",
        "plt.title(\"Customer and Their Ages\")\n",
        "plt.xlabel(\"Age\")\n",
        "plt.ylabel(\"Number of Customers\")\n",
        "\n",
        "# Menambahkan label jumlah pelanggan di atas setiap bar\n",
        "for i in range(len(x)):\n",
        "  plt.text(i, y[i], y[i], ha='center', va='bottom')\n",
        "\n",
        "plt.show()"
      ],
      "metadata": {
        "colab": {
          "base_uri": "https://localhost:8080/",
          "height": 509
        },
        "id": "c5q2h-hkZab0",
        "outputId": "f2113701-9508-466f-9724-db8341b46e4e"
      },
      "execution_count": 493,
      "outputs": [
        {
          "output_type": "display_data",
          "data": {
            "text/plain": [
              "<Figure size 1500x600 with 1 Axes>"
            ],
            "image/png": "[encoded data removed]"
          },
          "metadata": {}
        }
      ]
    },
    {
      "cell_type": "code",
      "source": [],
      "metadata": {
        "id": "bEwn1GIHekID"
      },
      "execution_count": null,
      "outputs": []
    }
  ]
}